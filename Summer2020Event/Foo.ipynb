{
 "cells": [
  {
   "cell_type": "code",
   "execution_count": 14,
   "metadata": {},
   "outputs": [
    {
     "name": "stderr",
     "output_type": "stream",
     "text": [
      "/snippet_.qs(9,9): error QS6312: The called operation does not support the necessary functor(s) for the requested auto-generation of a specialization. Missing support for functor(s) Adjoint, Controlled.\n",
      ": error QS7112: Executing the transformation for the compilation step \"Functor Generation\" loaded from \"/Users/nikourriola/.dotnet/tools/.store/microsoft.quantum.iqsharp/0.11.2004.2825/microsoft.quantum.iqsharp/0.11.2004.2825/tools/netcoreapp3.1/any/Microsoft.Quantum.QsCompiler.dll\" failed.\n"
     ]
    }
   ],
   "source": [
    "\n",
    "\n",
    "\n",
    "operation Solve () : Unit is Adj+Ctl {\n",
    "    using (anc=Qubit()){\n",
    "        Message(\"made it\");\n",
    "        \n",
    "        \n",
    "        Reset(anc);\n",
    "    }\n",
    "}\n"
   ]
  },
  {
   "cell_type": "code",
   "execution_count": 13,
   "metadata": {},
   "outputs": [
    {
     "name": "stdout",
     "output_type": "stream",
     "text": [
      "made it\n"
     ]
    },
    {
     "data": {
      "application/json": "{\"@type\":\"tuple\"}",
      "text/plain": [
       "()"
      ]
     },
     "execution_count": 13,
     "metadata": {},
     "output_type": "execute_result"
    }
   ],
   "source": [
    "%simulate Solve"
   ]
  },
  {
   "cell_type": "code",
   "execution_count": null,
   "metadata": {},
   "outputs": [],
   "source": []
  }
 ],
 "metadata": {
  "kernelspec": {
   "display_name": "Q#",
   "language": "qsharp",
   "name": "iqsharp"
  },
  "language_info": {
   "file_extension": ".qs",
   "mimetype": "text/x-qsharp",
   "name": "qsharp",
   "version": "0.10"
  }
 },
 "nbformat": 4,
 "nbformat_minor": 2
}
