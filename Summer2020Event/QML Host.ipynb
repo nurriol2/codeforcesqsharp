{
 "cells": [
  {
   "cell_type": "markdown",
   "metadata": {},
   "source": [
    "# Using C\\# host instead, but the last cell has the bash to include the MachineLearning namespace to a Q\\# project"
   ]
  },
  {
   "cell_type": "code",
   "execution_count": 1,
   "metadata": {},
   "outputs": [
    {
     "name": "stdout",
     "output_type": "stream",
     "text": [
      "Adding package Microsoft.Quantum.MachineLearning::0.11.2004.2825."
     ]
    },
    {
     "ename": "ModuleNotFoundError",
     "evalue": "No module named 'Microsoft'",
     "output_type": "error",
     "traceback": [
      "\u001b[0;31m---------------------------------------------------------------------------\u001b[0m",
      "\u001b[0;31mModuleNotFoundError\u001b[0m                       Traceback (most recent call last)",
      "\u001b[0;32m<ipython-input-1-25e949f6f9b5>\u001b[0m in \u001b[0;36m<module>\u001b[0;34m\u001b[0m\n\u001b[1;32m     11\u001b[0m \u001b[0mqsharp\u001b[0m\u001b[0;34m.\u001b[0m\u001b[0mreload\u001b[0m\u001b[0;34m(\u001b[0m\u001b[0;34m)\u001b[0m\u001b[0;34m\u001b[0m\u001b[0m\n\u001b[1;32m     12\u001b[0m \u001b[0;34m\u001b[0m\u001b[0m\n\u001b[0;32m---> 13\u001b[0;31m from Microsoft.Quantum.Samples import (\n\u001b[0m\u001b[1;32m     14\u001b[0m     \u001b[0mTrainHalfMoonModel\u001b[0m\u001b[0;34m,\u001b[0m \u001b[0mValidateHalfMoonModel\u001b[0m\u001b[0;34m,\u001b[0m \u001b[0mClassifyHalfMoonModel\u001b[0m\u001b[0;34m\u001b[0m\u001b[0m\n\u001b[1;32m     15\u001b[0m )\n",
      "\u001b[0;31mModuleNotFoundError\u001b[0m: No module named 'Microsoft'"
     ]
    }
   ],
   "source": [
    "import json\n",
    "\n",
    "import numpy as np\n",
    "import matplotlib.pyplot as plt\n",
    "import matplotlib.colors as colors\n",
    "import matplotlib.cm as cmx\n",
    "plt.style.use('ggplot')\n",
    "\n",
    "import qsharp\n",
    "qsharp.packages.add(\"Microsoft.Quantum.MachineLearning::0.11.2004.2825\")\n",
    "qsharp.reload()\n",
    "\n",
    "from Microsoft.Quantum.Samples import (\n",
    "    TrainHalfMoonModel, ValidateHalfMoonModel, ClassifyHalfMoonModel\n",
    ")\n",
    "\n",
    "if __name__ == \"__main__\":\n",
    "    with open('data.json') as f:\n",
    "        data = json.load(f)\n",
    "    parameter_starting_points = [\n",
    "        [0.060057, 3.00522,  2.03083,  0.63527,  1.03771, 1.27881, 4.10186,  5.34396],\n",
    "        [0.586514, 3.371623, 0.860791, 2.92517,  1.14616, 2.99776, 2.26505,  5.62137],\n",
    "        [1.69704,  1.13912,  2.3595,   4.037552, 1.63698, 1.27549, 0.328671, 0.302282],\n",
    "        [5.21662,  6.04363,  0.224184, 1.53913,  1.64524, 4.79508, 1.49742,  1.545]\n",
    "     ]\n",
    "\n",
    "    (parameters, bias) = TrainHalfMoonModel.simulate(\n",
    "        trainingVectors=data['TrainingData']['Features'],\n",
    "        trainingLabels=data['TrainingData']['Labels'],\n",
    "        initialParameters=parameter_starting_points\n",
    "    )\n",
    "\n",
    "    miss_rate = ValidateHalfMoonModel.simulate(\n",
    "        validationVectors=data['ValidationData']['Features'],\n",
    "        validationLabels=data['ValidationData']['Labels'],\n",
    "        parameters=parameters, bias=bias\n",
    "    )\n",
    "\n",
    "    print(f\"Miss rate: {miss_rate:0.2%}\")"
   ]
  },
  {
   "cell_type": "code",
   "execution_count": null,
   "metadata": {},
   "outputs": [],
   "source": [
    "dotnet add Summer2020Event.csproj package Microsoft.Quantum.MachineLearning\n"
   ]
  }
 ],
 "metadata": {
  "kernelspec": {
   "display_name": "Python 3",
   "language": "python",
   "name": "python3"
  },
  "language_info": {
   "codemirror_mode": {
    "name": "ipython",
    "version": 3
   },
   "file_extension": ".py",
   "mimetype": "text/x-python",
   "name": "python",
   "nbconvert_exporter": "python",
   "pygments_lexer": "ipython3",
   "version": "3.6.4"
  }
 },
 "nbformat": 4,
 "nbformat_minor": 2
}
