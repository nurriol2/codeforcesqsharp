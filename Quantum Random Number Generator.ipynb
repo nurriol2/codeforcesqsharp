{
 "cells": [
  {
   "cell_type": "code",
   "execution_count": 12,
   "metadata": {},
   "outputs": [
    {
     "data": {
      "application/json": "[\"Explore.MainForLoop\",\"Microsoft.Quantum.Samples.IsMinus\",\"Microsoft.Quantum.Samples.IsPlus\",\"Qrng.SampleQuantumRandomNumberGenerator\",\"Qrng.SampleRandomNumber\",\"Qrng.SampleRandomNumberInRange\"]",
      "text/html": [
       "<ul><li>Explore.MainForLoop</li><li>Microsoft.Quantum.Samples.IsMinus</li><li>Microsoft.Quantum.Samples.IsPlus</li><li>Qrng.SampleQuantumRandomNumberGenerator</li><li>Qrng.SampleRandomNumber</li><li>Qrng.SampleRandomNumberInRange</li></ul>"
      ],
      "text/plain": [
       "Explore.MainForLoop, Microsoft.Quantum.Samples.IsMinus, Microsoft.Quantum.Samples.IsPlus, Qrng.SampleQuantumRandomNumberGenerator, Qrng.SampleRandomNumber, Qrng.SampleRandomNumberInRange"
      ]
     },
     "execution_count": 12,
     "metadata": {},
     "output_type": "execute_result"
    }
   ],
   "source": [
    "%workspace reload"
   ]
  },
  {
   "cell_type": "code",
   "execution_count": 6,
   "metadata": {},
   "outputs": [
    {
     "name": "stdout",
     "output_type": "stream",
     "text": [
      "Sampling a random number between 0 and 50:  \n"
     ]
    },
    {
     "data": {
      "application/json": "12",
      "text/plain": [
       "12"
      ]
     },
     "execution_count": 6,
     "metadata": {},
     "output_type": "execute_result"
    }
   ],
   "source": [
    "%simulate SampleRandomNumber"
   ]
  },
  {
   "cell_type": "markdown",
   "metadata": {},
   "source": [
    "Trying to understand the `1..` syntax seen in the for loop"
   ]
  },
  {
   "cell_type": "code",
   "execution_count": 13,
   "metadata": {},
   "outputs": [
    {
     "name": "stdout",
     "output_type": "stream",
     "text": [
      "Printing 1\n",
      "Printing 2\n",
      "Printing 3\n",
      "Printing 4\n",
      "Printing 5\n",
      "Printing 6\n",
      "Printing 7\n",
      "Printing 8\n",
      "Printing 9\n",
      "Printing 10\n"
     ]
    },
    {
     "data": {
      "application/json": "{\"@type\":\"tuple\"}",
      "text/plain": [
       "()"
      ]
     },
     "execution_count": 13,
     "metadata": {},
     "output_type": "execute_result"
    }
   ],
   "source": [
    "%simulate MainForLoop"
   ]
  },
  {
   "cell_type": "code",
   "execution_count": null,
   "metadata": {},
   "outputs": [],
   "source": []
  }
 ],
 "metadata": {
  "kernelspec": {
   "display_name": "Q#",
   "language": "qsharp",
   "name": "iqsharp"
  },
  "language_info": {
   "file_extension": ".qs",
   "mimetype": "text/x-qsharp",
   "name": "qsharp",
   "version": "0.10"
  }
 },
 "nbformat": 4,
 "nbformat_minor": 2
}
