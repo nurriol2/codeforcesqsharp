{
 "cells": [
  {
   "cell_type": "markdown",
   "metadata": {},
   "source": [
    "**`namespace`** highest member in the heirarchy of method calling\n",
    "Basic syntax is `namespace.class.method`\n",
    "The `using` keyword can be invoked so that the namespace is not required\n",
    "*Example*: \n",
    "\n",
    "`using System; Console.WriteLine(\"Hello\")`\n",
    "\n",
    "is the same as\n",
    "\n",
    "`\n",
    "System.Console.WriteLine(\"Hello\");\n",
    "`"
   ]
  },
  {
   "cell_type": "code",
   "execution_count": 1,
   "metadata": {},
   "outputs": [
    {
     "data": {
      "application/json": "[\"SayHello\"]",
      "text/html": [
       "<ul><li>SayHello</li></ul>"
      ],
      "text/plain": [
       "SayHello"
      ]
     },
     "execution_count": 1,
     "metadata": {},
     "output_type": "execute_result"
    }
   ],
   "source": [
    "//`operation` acts much like a function in python\n",
    "operation SayHello(name: String) : Unit{\n",
    "    Message($\"Hello {name}\");\n",
    "}"
   ]
  },
  {
   "cell_type": "markdown",
   "metadata": {},
   "source": [
    "*NB* Syntax for formatting strings with operation params\n",
    "`$\"{param}\"`"
   ]
  },
  {
   "cell_type": "code",
   "execution_count": 2,
   "metadata": {},
   "outputs": [
    {
     "data": {
      "application/json": "[\"SayHelloQ\"]",
      "text/html": [
       "<ul><li>SayHelloQ</li></ul>"
      ],
      "text/plain": [
       "SayHelloQ"
      ]
     },
     "execution_count": 2,
     "metadata": {},
     "output_type": "execute_result"
    }
   ],
   "source": [
    "//after running cell, Q# compiles code and returns the names of any operations it foundin the cell\n",
    "//compiler will also return any errors it found\n",
    "operation SayHelloQ() : Unit{\n",
    "    SayHello(\"Q\");\n",
    "}"
   ]
  },
  {
   "cell_type": "markdown",
   "metadata": {},
   "source": [
    "**(?)** Adding comments after a closing curly brace throws an error (seen below)\n",
    "`/snippet_.qs(3,13): error QS1002: An opening bracket has not been closed.`"
   ]
  },
  {
   "cell_type": "code",
   "execution_count": 3,
   "metadata": {},
   "outputs": [
    {
     "data": {
      "application/json": "[]",
      "text/html": [
       "<ul></ul>"
      ],
      "text/plain": []
     },
     "execution_count": 3,
     "metadata": {},
     "output_type": "execute_result"
    }
   ],
   "source": [
    "\n",
    "//operation Foo() : Unit{\n",
    "//\n",
    "//}//comment\n"
   ]
  },
  {
   "cell_type": "code",
   "execution_count": 4,
   "metadata": {},
   "outputs": [
    {
     "data": {
      "application/json": "[\"SayHelloPI\"]",
      "text/html": [
       "<ul><li>SayHelloPI</li></ul>"
      ],
      "text/plain": [
       "SayHelloPI"
      ]
     },
     "execution_count": 4,
     "metadata": {},
     "output_type": "execute_result"
    }
   ],
   "source": [
    "//importing math module\n",
    "open Microsoft.Quantum.Math;\n",
    "\n",
    "//call SayHello on PI from Microsoft.Quantum.Math namespace\n",
    "operation SayHelloPI() : Unit{\n",
    "    let pi = Microsoft.Quantum.Convert.DoubleAsString(PI());\n",
    "    SayHello(pi);\n",
    "}\n"
   ]
  },
  {
   "cell_type": "code",
   "execution_count": 5,
   "metadata": {},
   "outputs": [
    {
     "data": {
      "application/json": "[\"PrepareRandomMessage\",\"SetMinus\",\"SetPlus\"]",
      "text/html": [
       "<ul><li>PrepareRandomMessage</li><li>SetMinus</li><li>SetPlus</li></ul>"
      ],
      "text/plain": [
       "PrepareRandomMessage, SetMinus, SetPlus"
      ]
     },
     "execution_count": 5,
     "metadata": {},
     "output_type": "execute_result"
    }
   ],
   "source": [
    "open Microsoft.Quantum.Math;\n",
    "\n",
    "//set the quibt state to |+>\n",
    "operation SetPlus(q:Qubit) : Unit{\n",
    "    //put the quibt into |0>\n",
    "    Reset(q);\n",
    "    H(q);\n",
    "}\n",
    "\n",
    "//set the quibt state to |->\n",
    "//H|1> = |->\n",
    "operation SetMinus(q:Qubit) : Unit{\n",
    "    //put the quibt into |0>\n",
    "    Reset(q);\n",
    "    //put the qubit into |1>\n",
    "    X(q);\n",
    "    H(q);\n",
    "}\n",
    "\n",
    "//randomly set the qubit into |+> or |->\n",
    "operation PrepareRandomMessage(q:Qubit) : Unit{\n",
    "    let choice = RandomInt(2);\n",
    "    \n",
    "    if (choice == 0){\n",
    "        Message(\"Prepared |->\");\n",
    "        SetMinus(q);\n",
    "    } else{\n",
    "        Message(\"Prepared |+>\");\n",
    "        SetPlus(q);\n",
    "    }\n",
    "}"
   ]
  },
  {
   "cell_type": "code",
   "execution_count": 6,
   "metadata": {},
   "outputs": [
    {
     "data": {
      "application/json": "[\"NextRandomBit\",\"TestPrepareQubits\"]",
      "text/html": [
       "<ul><li>NextRandomBit</li><li>TestPrepareQubits</li></ul>"
      ],
      "text/plain": [
       "NextRandomBit, TestPrepareQubits"
      ]
     },
     "execution_count": 6,
     "metadata": {},
     "output_type": "execute_result"
    }
   ],
   "source": [
    "//continued use of the operations just created\n",
    "open Microsoft.Quantum.Diagnostics;\n",
    "open Microsoft.Quantum.Measurement;\n",
    "\n",
    "operation NextRandomBit() : Result{\n",
    "    //instantiate a quibt\n",
    "    using (q=Qubit()){\n",
    "        SetPlus(q);\n",
    "        //measure qubit in the z basis then reset it to |0>\n",
    "        return MResetZ(q);\n",
    "    }\n",
    "}\n",
    "\n",
    "operation TestPrepareQubits() : Result{\n",
    "    //like a NoneType in Python\n",
    "    mutable r = Zero;\n",
    "    \n",
    "    //prepare 5 identical qubits in |0>\n",
    "    using (qubits = Qubit[5]){\n",
    "        ApplyToEach(PrepareRandomMessage, qubits);\n",
    "        //generate output to the console (since params are empty)\n",
    "        DumpMachine();\n",
    "        \n",
    "        //measure each qubit in the pauli x basis\n",
    "        set r = Measure([PauliX, PauliX, PauliX, PauliX, PauliX], qubits);\n",
    "    \n",
    "        //measure the array of qubits and ensure they are |0> to be safely released\n",
    "        ResetAll(qubits);\n",
    "    }\n",
    "    \n",
    "    //return the array of measurements\n",
    "    return r;\n",
    "    \n",
    "}"
   ]
  },
  {
   "cell_type": "markdown",
   "metadata": {},
   "source": [
    "After operations compile, use `%simulate` to simulate the operation\n",
    "\n",
    "`%simulate` prints any console output to screen\n",
    "print `()` if it encounters `Unit`\n",
    "Otherwise it will print the actual return value"
   ]
  },
  {
   "cell_type": "code",
   "execution_count": 7,
   "metadata": {},
   "outputs": [
    {
     "name": "stdout",
     "output_type": "stream",
     "text": [
      "Hello 3.141592653589793\n"
     ]
    },
    {
     "data": {
      "application/json": "{\"@type\":\"tuple\"}",
      "text/plain": [
       "()"
      ]
     },
     "execution_count": 7,
     "metadata": {},
     "output_type": "execute_result"
    }
   ],
   "source": [
    "%simulate SayHelloPI"
   ]
  },
  {
   "cell_type": "code",
   "execution_count": 8,
   "metadata": {},
   "outputs": [
    {
     "data": {
      "application/json": "1",
      "text/plain": [
       "One"
      ]
     },
     "execution_count": 8,
     "metadata": {},
     "output_type": "execute_result"
    }
   ],
   "source": [
    "%simulate NextRandomBit"
   ]
  },
  {
   "cell_type": "markdown",
   "metadata": {},
   "source": [
    "Since `%simulate` *only* accepts operations (does not accept arguments) you should create a wrapper operation to call `%simulate` with an argument. \n",
    "\n",
    "For example, you cannot call `%simulate SayHello` because `SayHello` requires an argument `name`\n",
    "However you can call `%simulate SayHelloQ` because:\n",
    "- `SayHelloQ` is a wrapper operation\n",
    "- within the body of `SayHelloQ` you supplied `name` to `SayHello`"
   ]
  },
  {
   "cell_type": "code",
   "execution_count": 9,
   "metadata": {},
   "outputs": [
    {
     "name": "stdout",
     "output_type": "stream",
     "text": [
      "Prepared |->\n",
      "Prepared |+>\n",
      "Prepared |+>\n",
      "Prepared |->\n",
      "Prepared |+>\n"
     ]
    },
    {
     "data": {
      "application/json": "{\"QubitIds\":[0,1,2,3,4],\"NQubits\":5,\"Amplitudes\":[{\"Real\":0.17677669529663692,\"Imaginary\":0.0,\"Magnitude\":0.17677669529663692,\"Phase\":0.0},{\"Real\":-0.17677669529663692,\"Imaginary\":0.0,\"Magnitude\":0.17677669529663692,\"Phase\":3.141592653589793},{\"Real\":0.17677669529663692,\"Imaginary\":0.0,\"Magnitude\":0.17677669529663692,\"Phase\":0.0},{\"Real\":-0.17677669529663692,\"Imaginary\":0.0,\"Magnitude\":0.17677669529663692,\"Phase\":3.141592653589793},{\"Real\":0.17677669529663692,\"Imaginary\":0.0,\"Magnitude\":0.17677669529663692,\"Phase\":0.0},{\"Real\":-0.17677669529663692,\"Imaginary\":0.0,\"Magnitude\":0.17677669529663692,\"Phase\":3.141592653589793},{\"Real\":0.17677669529663692,\"Imaginary\":0.0,\"Magnitude\":0.17677669529663692,\"Phase\":0.0},{\"Real\":-0.17677669529663692,\"Imaginary\":0.0,\"Magnitude\":0.17677669529663692,\"Phase\":3.141592653589793},{\"Real\":-0.17677669529663692,\"Imaginary\":0.0,\"Magnitude\":0.17677669529663692,\"Phase\":3.141592653589793},{\"Real\":0.17677669529663692,\"Imaginary\":0.0,\"Magnitude\":0.17677669529663692,\"Phase\":0.0},{\"Real\":-0.17677669529663692,\"Imaginary\":0.0,\"Magnitude\":0.17677669529663692,\"Phase\":3.141592653589793},{\"Real\":0.17677669529663692,\"Imaginary\":0.0,\"Magnitude\":0.17677669529663692,\"Phase\":0.0},{\"Real\":-0.17677669529663692,\"Imaginary\":0.0,\"Magnitude\":0.17677669529663692,\"Phase\":3.141592653589793},{\"Real\":0.17677669529663692,\"Imaginary\":0.0,\"Magnitude\":0.17677669529663692,\"Phase\":0.0},{\"Real\":-0.17677669529663692,\"Imaginary\":0.0,\"Magnitude\":0.17677669529663692,\"Phase\":3.141592653589793},{\"Real\":0.17677669529663692,\"Imaginary\":0.0,\"Magnitude\":0.17677669529663692,\"Phase\":0.0},{\"Real\":0.17677669529663692,\"Imaginary\":0.0,\"Magnitude\":0.17677669529663692,\"Phase\":0.0},{\"Real\":-0.17677669529663692,\"Imaginary\":0.0,\"Magnitude\":0.17677669529663692,\"Phase\":3.141592653589793},{\"Real\":0.17677669529663692,\"Imaginary\":0.0,\"Magnitude\":0.17677669529663692,\"Phase\":0.0},{\"Real\":-0.17677669529663692,\"Imaginary\":0.0,\"Magnitude\":0.17677669529663692,\"Phase\":3.141592653589793},{\"Real\":0.17677669529663692,\"Imaginary\":0.0,\"Magnitude\":0.17677669529663692,\"Phase\":0.0},{\"Real\":-0.17677669529663692,\"Imaginary\":0.0,\"Magnitude\":0.17677669529663692,\"Phase\":3.141592653589793},{\"Real\":0.17677669529663692,\"Imaginary\":0.0,\"Magnitude\":0.17677669529663692,\"Phase\":0.0},{\"Real\":-0.17677669529663692,\"Imaginary\":0.0,\"Magnitude\":0.17677669529663692,\"Phase\":3.141592653589793},{\"Real\":-0.17677669529663692,\"Imaginary\":0.0,\"Magnitude\":0.17677669529663692,\"Phase\":3.141592653589793},{\"Real\":0.17677669529663692,\"Imaginary\":0.0,\"Magnitude\":0.17677669529663692,\"Phase\":0.0},{\"Real\":-0.17677669529663692,\"Imaginary\":0.0,\"Magnitude\":0.17677669529663692,\"Phase\":3.141592653589793},{\"Real\":0.17677669529663692,\"Imaginary\":0.0,\"Magnitude\":0.17677669529663692,\"Phase\":0.0},{\"Real\":-0.17677669529663692,\"Imaginary\":0.0,\"Magnitude\":0.17677669529663692,\"Phase\":3.141592653589793},{\"Real\":0.17677669529663692,\"Imaginary\":0.0,\"Magnitude\":0.17677669529663692,\"Phase\":0.0},{\"Real\":-0.17677669529663692,\"Imaginary\":0.0,\"Magnitude\":0.17677669529663692,\"Phase\":3.141592653589793},{\"Real\":0.17677669529663692,\"Imaginary\":0.0,\"Magnitude\":0.17677669529663692,\"Phase\":0.0}]}",
      "text/html": [
       "\r\n",
       "                    <table style=\"table-layout: fixed; width: 100%\">\r\n",
       "                        <thead>\r\n",
       "                            \r\n",
       "                        <tr>\r\n",
       "                            <th>Qubit IDs</th>\r\n",
       "                            <td span=\"3\">0, 1, 2, 3, 4</td>\r\n",
       "                        </tr>\r\n",
       "                    \r\n",
       "                            <tr>\r\n",
       "                                <th style=\"width: 20ch)\">Basis state (little endian)</th>\r\n",
       "                                <th style=\"width: 20ch\">Amplitude</th>\r\n",
       "                                <th style=\"width: calc(100% - 26ch - 20ch)\">Meas. Pr.</th>\r\n",
       "                                <th style=\"width: 6ch\">Phase</th>\r\n",
       "                            </tr>\r\n",
       "                        </thead>\r\n",
       "\r\n",
       "                        <tbody>\r\n",
       "                            \r\n",
       "                            <tr>\r\n",
       "                                <td>$\\left|0\\right\\rangle$</td>\r\n",
       "                                <td>$0.1768 + 0.0000 i$</td>\r\n",
       "                                <td>\r\n",
       "                                    <progress\r\n",
       "                                        max=\"100\"\r\n",
       "                                        value=\"3.1250000000000013\"\r\n",
       "                                        style=\"width: 100%;\"\r\n",
       "                                    >\r\n",
       "                                </td>\r\n",
       "                                <td style=\"transform: rotate(0deg);\r\n",
       "                   text-align: center;\">\r\n",
       "                                    ↑\r\n",
       "                                </td>\r\n",
       "                            </tr>\r\n",
       "                        \n",
       "\r\n",
       "                            <tr>\r\n",
       "                                <td>$\\left|1\\right\\rangle$</td>\r\n",
       "                                <td>$-0.1768 + 0.0000 i$</td>\r\n",
       "                                <td>\r\n",
       "                                    <progress\r\n",
       "                                        max=\"100\"\r\n",
       "                                        value=\"3.1250000000000013\"\r\n",
       "                                        style=\"width: 100%;\"\r\n",
       "                                    >\r\n",
       "                                </td>\r\n",
       "                                <td style=\"transform: rotate(180deg);\r\n",
       "                   text-align: center;\">\r\n",
       "                                    ↑\r\n",
       "                                </td>\r\n",
       "                            </tr>\r\n",
       "                        \n",
       "\r\n",
       "                            <tr>\r\n",
       "                                <td>$\\left|2\\right\\rangle$</td>\r\n",
       "                                <td>$0.1768 + 0.0000 i$</td>\r\n",
       "                                <td>\r\n",
       "                                    <progress\r\n",
       "                                        max=\"100\"\r\n",
       "                                        value=\"3.1250000000000013\"\r\n",
       "                                        style=\"width: 100%;\"\r\n",
       "                                    >\r\n",
       "                                </td>\r\n",
       "                                <td style=\"transform: rotate(0deg);\r\n",
       "                   text-align: center;\">\r\n",
       "                                    ↑\r\n",
       "                                </td>\r\n",
       "                            </tr>\r\n",
       "                        \n",
       "\r\n",
       "                            <tr>\r\n",
       "                                <td>$\\left|3\\right\\rangle$</td>\r\n",
       "                                <td>$-0.1768 + 0.0000 i$</td>\r\n",
       "                                <td>\r\n",
       "                                    <progress\r\n",
       "                                        max=\"100\"\r\n",
       "                                        value=\"3.1250000000000013\"\r\n",
       "                                        style=\"width: 100%;\"\r\n",
       "                                    >\r\n",
       "                                </td>\r\n",
       "                                <td style=\"transform: rotate(180deg);\r\n",
       "                   text-align: center;\">\r\n",
       "                                    ↑\r\n",
       "                                </td>\r\n",
       "                            </tr>\r\n",
       "                        \n",
       "\r\n",
       "                            <tr>\r\n",
       "                                <td>$\\left|4\\right\\rangle$</td>\r\n",
       "                                <td>$0.1768 + 0.0000 i$</td>\r\n",
       "                                <td>\r\n",
       "                                    <progress\r\n",
       "                                        max=\"100\"\r\n",
       "                                        value=\"3.1250000000000013\"\r\n",
       "                                        style=\"width: 100%;\"\r\n",
       "                                    >\r\n",
       "                                </td>\r\n",
       "                                <td style=\"transform: rotate(0deg);\r\n",
       "                   text-align: center;\">\r\n",
       "                                    ↑\r\n",
       "                                </td>\r\n",
       "                            </tr>\r\n",
       "                        \n",
       "\r\n",
       "                            <tr>\r\n",
       "                                <td>$\\left|5\\right\\rangle$</td>\r\n",
       "                                <td>$-0.1768 + 0.0000 i$</td>\r\n",
       "                                <td>\r\n",
       "                                    <progress\r\n",
       "                                        max=\"100\"\r\n",
       "                                        value=\"3.1250000000000013\"\r\n",
       "                                        style=\"width: 100%;\"\r\n",
       "                                    >\r\n",
       "                                </td>\r\n",
       "                                <td style=\"transform: rotate(180deg);\r\n",
       "                   text-align: center;\">\r\n",
       "                                    ↑\r\n",
       "                                </td>\r\n",
       "                            </tr>\r\n",
       "                        \n",
       "\r\n",
       "                            <tr>\r\n",
       "                                <td>$\\left|6\\right\\rangle$</td>\r\n",
       "                                <td>$0.1768 + 0.0000 i$</td>\r\n",
       "                                <td>\r\n",
       "                                    <progress\r\n",
       "                                        max=\"100\"\r\n",
       "                                        value=\"3.1250000000000013\"\r\n",
       "                                        style=\"width: 100%;\"\r\n",
       "                                    >\r\n",
       "                                </td>\r\n",
       "                                <td style=\"transform: rotate(0deg);\r\n",
       "                   text-align: center;\">\r\n",
       "                                    ↑\r\n",
       "                                </td>\r\n",
       "                            </tr>\r\n",
       "                        \n",
       "\r\n",
       "                            <tr>\r\n",
       "                                <td>$\\left|7\\right\\rangle$</td>\r\n",
       "                                <td>$-0.1768 + 0.0000 i$</td>\r\n",
       "                                <td>\r\n",
       "                                    <progress\r\n",
       "                                        max=\"100\"\r\n",
       "                                        value=\"3.1250000000000013\"\r\n",
       "                                        style=\"width: 100%;\"\r\n",
       "                                    >\r\n",
       "                                </td>\r\n",
       "                                <td style=\"transform: rotate(180deg);\r\n",
       "                   text-align: center;\">\r\n",
       "                                    ↑\r\n",
       "                                </td>\r\n",
       "                            </tr>\r\n",
       "                        \n",
       "\r\n",
       "                            <tr>\r\n",
       "                                <td>$\\left|8\\right\\rangle$</td>\r\n",
       "                                <td>$-0.1768 + 0.0000 i$</td>\r\n",
       "                                <td>\r\n",
       "                                    <progress\r\n",
       "                                        max=\"100\"\r\n",
       "                                        value=\"3.1250000000000013\"\r\n",
       "                                        style=\"width: 100%;\"\r\n",
       "                                    >\r\n",
       "                                </td>\r\n",
       "                                <td style=\"transform: rotate(180deg);\r\n",
       "                   text-align: center;\">\r\n",
       "                                    ↑\r\n",
       "                                </td>\r\n",
       "                            </tr>\r\n",
       "                        \n",
       "\r\n",
       "                            <tr>\r\n",
       "                                <td>$\\left|9\\right\\rangle$</td>\r\n",
       "                                <td>$0.1768 + 0.0000 i$</td>\r\n",
       "                                <td>\r\n",
       "                                    <progress\r\n",
       "                                        max=\"100\"\r\n",
       "                                        value=\"3.1250000000000013\"\r\n",
       "                                        style=\"width: 100%;\"\r\n",
       "                                    >\r\n",
       "                                </td>\r\n",
       "                                <td style=\"transform: rotate(0deg);\r\n",
       "                   text-align: center;\">\r\n",
       "                                    ↑\r\n",
       "                                </td>\r\n",
       "                            </tr>\r\n",
       "                        \n",
       "\r\n",
       "                            <tr>\r\n",
       "                                <td>$\\left|10\\right\\rangle$</td>\r\n",
       "                                <td>$-0.1768 + 0.0000 i$</td>\r\n",
       "                                <td>\r\n",
       "                                    <progress\r\n",
       "                                        max=\"100\"\r\n",
       "                                        value=\"3.1250000000000013\"\r\n",
       "                                        style=\"width: 100%;\"\r\n",
       "                                    >\r\n",
       "                                </td>\r\n",
       "                                <td style=\"transform: rotate(180deg);\r\n",
       "                   text-align: center;\">\r\n",
       "                                    ↑\r\n",
       "                                </td>\r\n",
       "                            </tr>\r\n",
       "                        \n",
       "\r\n",
       "                            <tr>\r\n",
       "                                <td>$\\left|11\\right\\rangle$</td>\r\n",
       "                                <td>$0.1768 + 0.0000 i$</td>\r\n",
       "                                <td>\r\n",
       "                                    <progress\r\n",
       "                                        max=\"100\"\r\n",
       "                                        value=\"3.1250000000000013\"\r\n",
       "                                        style=\"width: 100%;\"\r\n",
       "                                    >\r\n",
       "                                </td>\r\n",
       "                                <td style=\"transform: rotate(0deg);\r\n",
       "                   text-align: center;\">\r\n",
       "                                    ↑\r\n",
       "                                </td>\r\n",
       "                            </tr>\r\n",
       "                        \n",
       "\r\n",
       "                            <tr>\r\n",
       "                                <td>$\\left|12\\right\\rangle$</td>\r\n",
       "                                <td>$-0.1768 + 0.0000 i$</td>\r\n",
       "                                <td>\r\n",
       "                                    <progress\r\n",
       "                                        max=\"100\"\r\n",
       "                                        value=\"3.1250000000000013\"\r\n",
       "                                        style=\"width: 100%;\"\r\n",
       "                                    >\r\n",
       "                                </td>\r\n",
       "                                <td style=\"transform: rotate(180deg);\r\n",
       "                   text-align: center;\">\r\n",
       "                                    ↑\r\n",
       "                                </td>\r\n",
       "                            </tr>\r\n",
       "                        \n",
       "\r\n",
       "                            <tr>\r\n",
       "                                <td>$\\left|13\\right\\rangle$</td>\r\n",
       "                                <td>$0.1768 + 0.0000 i$</td>\r\n",
       "                                <td>\r\n",
       "                                    <progress\r\n",
       "                                        max=\"100\"\r\n",
       "                                        value=\"3.1250000000000013\"\r\n",
       "                                        style=\"width: 100%;\"\r\n",
       "                                    >\r\n",
       "                                </td>\r\n",
       "                                <td style=\"transform: rotate(0deg);\r\n",
       "                   text-align: center;\">\r\n",
       "                                    ↑\r\n",
       "                                </td>\r\n",
       "                            </tr>\r\n",
       "                        \n",
       "\r\n",
       "                            <tr>\r\n",
       "                                <td>$\\left|14\\right\\rangle$</td>\r\n",
       "                                <td>$-0.1768 + 0.0000 i$</td>\r\n",
       "                                <td>\r\n",
       "                                    <progress\r\n",
       "                                        max=\"100\"\r\n",
       "                                        value=\"3.1250000000000013\"\r\n",
       "                                        style=\"width: 100%;\"\r\n",
       "                                    >\r\n",
       "                                </td>\r\n",
       "                                <td style=\"transform: rotate(180deg);\r\n",
       "                   text-align: center;\">\r\n",
       "                                    ↑\r\n",
       "                                </td>\r\n",
       "                            </tr>\r\n",
       "                        \n",
       "\r\n",
       "                            <tr>\r\n",
       "                                <td>$\\left|15\\right\\rangle$</td>\r\n",
       "                                <td>$0.1768 + 0.0000 i$</td>\r\n",
       "                                <td>\r\n",
       "                                    <progress\r\n",
       "                                        max=\"100\"\r\n",
       "                                        value=\"3.1250000000000013\"\r\n",
       "                                        style=\"width: 100%;\"\r\n",
       "                                    >\r\n",
       "                                </td>\r\n",
       "                                <td style=\"transform: rotate(0deg);\r\n",
       "                   text-align: center;\">\r\n",
       "                                    ↑\r\n",
       "                                </td>\r\n",
       "                            </tr>\r\n",
       "                        \n",
       "\r\n",
       "                            <tr>\r\n",
       "                                <td>$\\left|16\\right\\rangle$</td>\r\n",
       "                                <td>$0.1768 + 0.0000 i$</td>\r\n",
       "                                <td>\r\n",
       "                                    <progress\r\n",
       "                                        max=\"100\"\r\n",
       "                                        value=\"3.1250000000000013\"\r\n",
       "                                        style=\"width: 100%;\"\r\n",
       "                                    >\r\n",
       "                                </td>\r\n",
       "                                <td style=\"transform: rotate(0deg);\r\n",
       "                   text-align: center;\">\r\n",
       "                                    ↑\r\n",
       "                                </td>\r\n",
       "                            </tr>\r\n",
       "                        \n",
       "\r\n",
       "                            <tr>\r\n",
       "                                <td>$\\left|17\\right\\rangle$</td>\r\n",
       "                                <td>$-0.1768 + 0.0000 i$</td>\r\n",
       "                                <td>\r\n",
       "                                    <progress\r\n",
       "                                        max=\"100\"\r\n",
       "                                        value=\"3.1250000000000013\"\r\n",
       "                                        style=\"width: 100%;\"\r\n",
       "                                    >\r\n",
       "                                </td>\r\n",
       "                                <td style=\"transform: rotate(180deg);\r\n",
       "                   text-align: center;\">\r\n",
       "                                    ↑\r\n",
       "                                </td>\r\n",
       "                            </tr>\r\n",
       "                        \n",
       "\r\n",
       "                            <tr>\r\n",
       "                                <td>$\\left|18\\right\\rangle$</td>\r\n",
       "                                <td>$0.1768 + 0.0000 i$</td>\r\n",
       "                                <td>\r\n",
       "                                    <progress\r\n",
       "                                        max=\"100\"\r\n",
       "                                        value=\"3.1250000000000013\"\r\n",
       "                                        style=\"width: 100%;\"\r\n",
       "                                    >\r\n",
       "                                </td>\r\n",
       "                                <td style=\"transform: rotate(0deg);\r\n",
       "                   text-align: center;\">\r\n",
       "                                    ↑\r\n",
       "                                </td>\r\n",
       "                            </tr>\r\n",
       "                        \n",
       "\r\n",
       "                            <tr>\r\n",
       "                                <td>$\\left|19\\right\\rangle$</td>\r\n",
       "                                <td>$-0.1768 + 0.0000 i$</td>\r\n",
       "                                <td>\r\n",
       "                                    <progress\r\n",
       "                                        max=\"100\"\r\n",
       "                                        value=\"3.1250000000000013\"\r\n",
       "                                        style=\"width: 100%;\"\r\n",
       "                                    >\r\n",
       "                                </td>\r\n",
       "                                <td style=\"transform: rotate(180deg);\r\n",
       "                   text-align: center;\">\r\n",
       "                                    ↑\r\n",
       "                                </td>\r\n",
       "                            </tr>\r\n",
       "                        \n",
       "\r\n",
       "                            <tr>\r\n",
       "                                <td>$\\left|20\\right\\rangle$</td>\r\n",
       "                                <td>$0.1768 + 0.0000 i$</td>\r\n",
       "                                <td>\r\n",
       "                                    <progress\r\n",
       "                                        max=\"100\"\r\n",
       "                                        value=\"3.1250000000000013\"\r\n",
       "                                        style=\"width: 100%;\"\r\n",
       "                                    >\r\n",
       "                                </td>\r\n",
       "                                <td style=\"transform: rotate(0deg);\r\n",
       "                   text-align: center;\">\r\n",
       "                                    ↑\r\n",
       "                                </td>\r\n",
       "                            </tr>\r\n",
       "                        \n",
       "\r\n",
       "                            <tr>\r\n",
       "                                <td>$\\left|21\\right\\rangle$</td>\r\n",
       "                                <td>$-0.1768 + 0.0000 i$</td>\r\n",
       "                                <td>\r\n",
       "                                    <progress\r\n",
       "                                        max=\"100\"\r\n",
       "                                        value=\"3.1250000000000013\"\r\n",
       "                                        style=\"width: 100%;\"\r\n",
       "                                    >\r\n",
       "                                </td>\r\n",
       "                                <td style=\"transform: rotate(180deg);\r\n",
       "                   text-align: center;\">\r\n",
       "                                    ↑\r\n",
       "                                </td>\r\n",
       "                            </tr>\r\n",
       "                        \n",
       "\r\n",
       "                            <tr>\r\n",
       "                                <td>$\\left|22\\right\\rangle$</td>\r\n",
       "                                <td>$0.1768 + 0.0000 i$</td>\r\n",
       "                                <td>\r\n",
       "                                    <progress\r\n",
       "                                        max=\"100\"\r\n",
       "                                        value=\"3.1250000000000013\"\r\n",
       "                                        style=\"width: 100%;\"\r\n",
       "                                    >\r\n",
       "                                </td>\r\n",
       "                                <td style=\"transform: rotate(0deg);\r\n",
       "                   text-align: center;\">\r\n",
       "                                    ↑\r\n",
       "                                </td>\r\n",
       "                            </tr>\r\n",
       "                        \n",
       "\r\n",
       "                            <tr>\r\n",
       "                                <td>$\\left|23\\right\\rangle$</td>\r\n",
       "                                <td>$-0.1768 + 0.0000 i$</td>\r\n",
       "                                <td>\r\n",
       "                                    <progress\r\n",
       "                                        max=\"100\"\r\n",
       "                                        value=\"3.1250000000000013\"\r\n",
       "                                        style=\"width: 100%;\"\r\n",
       "                                    >\r\n",
       "                                </td>\r\n",
       "                                <td style=\"transform: rotate(180deg);\r\n",
       "                   text-align: center;\">\r\n",
       "                                    ↑\r\n",
       "                                </td>\r\n",
       "                            </tr>\r\n",
       "                        \n",
       "\r\n",
       "                            <tr>\r\n",
       "                                <td>$\\left|24\\right\\rangle$</td>\r\n",
       "                                <td>$-0.1768 + 0.0000 i$</td>\r\n",
       "                                <td>\r\n",
       "                                    <progress\r\n",
       "                                        max=\"100\"\r\n",
       "                                        value=\"3.1250000000000013\"\r\n",
       "                                        style=\"width: 100%;\"\r\n",
       "                                    >\r\n",
       "                                </td>\r\n",
       "                                <td style=\"transform: rotate(180deg);\r\n",
       "                   text-align: center;\">\r\n",
       "                                    ↑\r\n",
       "                                </td>\r\n",
       "                            </tr>\r\n",
       "                        \n",
       "\r\n",
       "                            <tr>\r\n",
       "                                <td>$\\left|25\\right\\rangle$</td>\r\n",
       "                                <td>$0.1768 + 0.0000 i$</td>\r\n",
       "                                <td>\r\n",
       "                                    <progress\r\n",
       "                                        max=\"100\"\r\n",
       "                                        value=\"3.1250000000000013\"\r\n",
       "                                        style=\"width: 100%;\"\r\n",
       "                                    >\r\n",
       "                                </td>\r\n",
       "                                <td style=\"transform: rotate(0deg);\r\n",
       "                   text-align: center;\">\r\n",
       "                                    ↑\r\n",
       "                                </td>\r\n",
       "                            </tr>\r\n",
       "                        \n",
       "\r\n",
       "                            <tr>\r\n",
       "                                <td>$\\left|26\\right\\rangle$</td>\r\n",
       "                                <td>$-0.1768 + 0.0000 i$</td>\r\n",
       "                                <td>\r\n",
       "                                    <progress\r\n",
       "                                        max=\"100\"\r\n",
       "                                        value=\"3.1250000000000013\"\r\n",
       "                                        style=\"width: 100%;\"\r\n",
       "                                    >\r\n",
       "                                </td>\r\n",
       "                                <td style=\"transform: rotate(180deg);\r\n",
       "                   text-align: center;\">\r\n",
       "                                    ↑\r\n",
       "                                </td>\r\n",
       "                            </tr>\r\n",
       "                        \n",
       "\r\n",
       "                            <tr>\r\n",
       "                                <td>$\\left|27\\right\\rangle$</td>\r\n",
       "                                <td>$0.1768 + 0.0000 i$</td>\r\n",
       "                                <td>\r\n",
       "                                    <progress\r\n",
       "                                        max=\"100\"\r\n",
       "                                        value=\"3.1250000000000013\"\r\n",
       "                                        style=\"width: 100%;\"\r\n",
       "                                    >\r\n",
       "                                </td>\r\n",
       "                                <td style=\"transform: rotate(0deg);\r\n",
       "                   text-align: center;\">\r\n",
       "                                    ↑\r\n",
       "                                </td>\r\n",
       "                            </tr>\r\n",
       "                        \n",
       "\r\n",
       "                            <tr>\r\n",
       "                                <td>$\\left|28\\right\\rangle$</td>\r\n",
       "                                <td>$-0.1768 + 0.0000 i$</td>\r\n",
       "                                <td>\r\n",
       "                                    <progress\r\n",
       "                                        max=\"100\"\r\n",
       "                                        value=\"3.1250000000000013\"\r\n",
       "                                        style=\"width: 100%;\"\r\n",
       "                                    >\r\n",
       "                                </td>\r\n",
       "                                <td style=\"transform: rotate(180deg);\r\n",
       "                   text-align: center;\">\r\n",
       "                                    ↑\r\n",
       "                                </td>\r\n",
       "                            </tr>\r\n",
       "                        \n",
       "\r\n",
       "                            <tr>\r\n",
       "                                <td>$\\left|29\\right\\rangle$</td>\r\n",
       "                                <td>$0.1768 + 0.0000 i$</td>\r\n",
       "                                <td>\r\n",
       "                                    <progress\r\n",
       "                                        max=\"100\"\r\n",
       "                                        value=\"3.1250000000000013\"\r\n",
       "                                        style=\"width: 100%;\"\r\n",
       "                                    >\r\n",
       "                                </td>\r\n",
       "                                <td style=\"transform: rotate(0deg);\r\n",
       "                   text-align: center;\">\r\n",
       "                                    ↑\r\n",
       "                                </td>\r\n",
       "                            </tr>\r\n",
       "                        \n",
       "\r\n",
       "                            <tr>\r\n",
       "                                <td>$\\left|30\\right\\rangle$</td>\r\n",
       "                                <td>$-0.1768 + 0.0000 i$</td>\r\n",
       "                                <td>\r\n",
       "                                    <progress\r\n",
       "                                        max=\"100\"\r\n",
       "                                        value=\"3.1250000000000013\"\r\n",
       "                                        style=\"width: 100%;\"\r\n",
       "                                    >\r\n",
       "                                </td>\r\n",
       "                                <td style=\"transform: rotate(180deg);\r\n",
       "                   text-align: center;\">\r\n",
       "                                    ↑\r\n",
       "                                </td>\r\n",
       "                            </tr>\r\n",
       "                        \n",
       "\r\n",
       "                            <tr>\r\n",
       "                                <td>$\\left|31\\right\\rangle$</td>\r\n",
       "                                <td>$0.1768 + 0.0000 i$</td>\r\n",
       "                                <td>\r\n",
       "                                    <progress\r\n",
       "                                        max=\"100\"\r\n",
       "                                        value=\"3.1250000000000013\"\r\n",
       "                                        style=\"width: 100%;\"\r\n",
       "                                    >\r\n",
       "                                </td>\r\n",
       "                                <td style=\"transform: rotate(0deg);\r\n",
       "                   text-align: center;\">\r\n",
       "                                    ↑\r\n",
       "                                </td>\r\n",
       "                            </tr>\r\n",
       "                        \r\n",
       "                        </tbody>\r\n",
       "                    </table>\r\n",
       "                "
      ],
      "text/plain": [
       "|0⟩\t0.17677669529663692 + 0𝑖\n",
       "|1⟩\t-0.17677669529663692 + 0𝑖\n",
       "|2⟩\t0.17677669529663692 + 0𝑖\n",
       "|3⟩\t-0.17677669529663692 + 0𝑖\n",
       "|4⟩\t0.17677669529663692 + 0𝑖\n",
       "|5⟩\t-0.17677669529663692 + 0𝑖\n",
       "|6⟩\t0.17677669529663692 + 0𝑖\n",
       "|7⟩\t-0.17677669529663692 + 0𝑖\n",
       "|8⟩\t-0.17677669529663692 + 0𝑖\n",
       "|9⟩\t0.17677669529663692 + 0𝑖\n",
       "|10⟩\t-0.17677669529663692 + 0𝑖\n",
       "|11⟩\t0.17677669529663692 + 0𝑖\n",
       "|12⟩\t-0.17677669529663692 + 0𝑖\n",
       "|13⟩\t0.17677669529663692 + 0𝑖\n",
       "|14⟩\t-0.17677669529663692 + 0𝑖\n",
       "|15⟩\t0.17677669529663692 + 0𝑖\n",
       "|16⟩\t0.17677669529663692 + 0𝑖\n",
       "|17⟩\t-0.17677669529663692 + 0𝑖\n",
       "|18⟩\t0.17677669529663692 + 0𝑖\n",
       "|19⟩\t-0.17677669529663692 + 0𝑖\n",
       "|20⟩\t0.17677669529663692 + 0𝑖\n",
       "|21⟩\t-0.17677669529663692 + 0𝑖\n",
       "|22⟩\t0.17677669529663692 + 0𝑖\n",
       "|23⟩\t-0.17677669529663692 + 0𝑖\n",
       "|24⟩\t-0.17677669529663692 + 0𝑖\n",
       "|25⟩\t0.17677669529663692 + 0𝑖\n",
       "|26⟩\t-0.17677669529663692 + 0𝑖\n",
       "|27⟩\t0.17677669529663692 + 0𝑖\n",
       "|28⟩\t-0.17677669529663692 + 0𝑖\n",
       "|29⟩\t0.17677669529663692 + 0𝑖\n",
       "|30⟩\t-0.17677669529663692 + 0𝑖\n",
       "|31⟩\t0.17677669529663692 + 0𝑖"
      ]
     },
     "metadata": {},
     "output_type": "display_data"
    },
    {
     "data": {
      "application/json": "0",
      "text/plain": [
       "Zero"
      ]
     },
     "execution_count": 9,
     "metadata": {},
     "output_type": "execute_result"
    }
   ],
   "source": [
    "%simulate TestPrepareQubits"
   ]
  },
  {
   "cell_type": "markdown",
   "metadata": {},
   "source": [
    "Estimating the number of resources (gates) a no-arguments operation will take using `%estimate`"
   ]
  },
  {
   "cell_type": "code",
   "execution_count": 10,
   "metadata": {},
   "outputs": [
    {
     "data": {
      "application/json": "[{\"Metric\":\"CNOT\",\"Sum\":0.0},{\"Metric\":\"QubitClifford\",\"Sum\":10.0},{\"Metric\":\"R\",\"Sum\":0.0},{\"Metric\":\"Measure\",\"Sum\":11.0},{\"Metric\":\"T\",\"Sum\":0.0},{\"Metric\":\"Depth\",\"Sum\":0.0},{\"Metric\":\"Width\",\"Sum\":5.0},{\"Metric\":\"BorrowedWidth\",\"Sum\":0.0}]",
      "text/html": [
       "<table><thead><tr><th>Metric</th><th>Sum</th></tr></thead><tbody><tr><td>CNOT</td><td>0</td></tr><tr><td>QubitClifford</td><td>10</td></tr><tr><td>R</td><td>0</td></tr><tr><td>Measure</td><td>11</td></tr><tr><td>T</td><td>0</td></tr><tr><td>Depth</td><td>0</td></tr><tr><td>Width</td><td>5</td></tr><tr><td>BorrowedWidth</td><td>0</td></tr></tbody></table>"
      ],
      "text/plain": [
       "Metric        Sum\n",
       "------------- --\n",
       "CNOT          0\n",
       "QubitClifford 10\n",
       "R             0\n",
       "Measure       11\n",
       "T             0\n",
       "Depth         0\n",
       "Width         5\n",
       "BorrowedWidth 0\n"
      ]
     },
     "execution_count": 10,
     "metadata": {},
     "output_type": "execute_result"
    }
   ],
   "source": [
    "%estimate TestPrepareQubits"
   ]
  },
  {
   "cell_type": "code",
   "execution_count": 11,
   "metadata": {},
   "outputs": [
    {
     "data": {
      "application/json": "[]",
      "text/html": [
       "<ul></ul>"
      ],
      "text/plain": []
     },
     "execution_count": 11,
     "metadata": {},
     "output_type": "execute_result"
    }
   ],
   "source": [
    "%workspace"
   ]
  },
  {
   "cell_type": "markdown",
   "metadata": {},
   "source": [
    "The notebook \"knows about\" all .qs files in the same directory as it<br>\n",
    "It will try to compile all of these .qs files<br>\n",
    "Then, the operations defined elsewhere can be used here in the notebook<br>\n",
    "To pick up any changes you make to a Q# file in the workspace, use `%workspace reload`<br>"
   ]
  },
  {
   "cell_type": "markdown",
   "metadata": {},
   "source": [
    "### Loading the docstring of an operation ###\n",
    "Add `?` after the operation name<br>\n",
    "Notice the syntax highlighting<br>\n",
    "For example"
   ]
  },
  {
   "cell_type": "code",
   "execution_count": 12,
   "metadata": {},
   "outputs": [
    {
     "data": {
      "application/json": "{\"name\":\"Microsoft.Quantum.Intrinsic.Z\",\"kind\":3,\"source\":\"/Users/nikourriola/.dotnet/tools/.store/microsoft.quantum.iqsharp/0.11.2004.2825/microsoft.quantum.iqsharp/0.11.2004.2825/tools/netcoreapp3.1/any/Microsoft.Quantum.QSharp.Core.dll\",\"documentation\":\" # Summary\\n Applies the Pauli $Z$ gate.\\n\\n \\\\begin{align}\\n     \\\\sigma_z \\\\mathrel{:=}\\n     \\\\begin{bmatrix}\\n         1 & 0 \\\\\\\\\\\\\\\\\\n         0 & -1\\n     \\\\end{bmatrix}.\\n \\\\end{align}\\n\\n # Input\\n ## qubit\\n Qubit to which the gate should be applied.\"}",
      "text/html": [
       "<h4><i class=\"fa fas fa-terminal\"></i> Microsoft.Quantum.Intrinsic.Z <a href=\"/Users/nikourriola/.dotnet/tools/.store/microsoft.quantum.iqsharp/0.11.2004.2825/microsoft.quantum.iqsharp/0.11.2004.2825/tools/netcoreapp3.1/any/Microsoft.Quantum.QSharp.Core.dll\"><i class=\"fa fas fa-code\"></i></a></h4><h1>Summary</h1>\n",
       "<p>Applies the Pauli $Z$ gate.</p>\n",
       "<p>\\begin{align}\n",
       "\\sigma_z \\mathrel{:=}\n",
       "\\begin{bmatrix}\n",
       "1 &amp; 0 \\\\\n",
       "0 &amp; -1\n",
       "\\end{bmatrix}.\n",
       "\\end{align}</p>\n",
       "<h1>Input</h1>\n",
       "<h2>qubit</h2>\n",
       "<p>Qubit to which the gate should be applied.</p>\n"
      ],
      "text/plain": [
       "Microsoft.Quantum.Intrinsic.Z"
      ]
     },
     "execution_count": 12,
     "metadata": {},
     "output_type": "execute_result"
    }
   ],
   "source": [
    "Microsoft.Quantum.Intrinsic.Z?"
   ]
  },
  {
   "cell_type": "markdown",
   "metadata": {},
   "source": [
    "You can add your own docstrings using XML tags<br>\n",
    "Here is an example "
   ]
  },
  {
   "cell_type": "code",
   "execution_count": 13,
   "metadata": {},
   "outputs": [
    {
     "data": {
      "application/json": "[\"MyExample\"]",
      "text/html": [
       "<ul><li>MyExample</li></ul>"
      ],
      "text/plain": [
       "MyExample"
      ]
     },
     "execution_count": 13,
     "metadata": {},
     "output_type": "execute_result"
    }
   ],
   "source": [
    "/// # Summary #\n",
    "///An example of user added documentation\n",
    "/// # Input #\n",
    "/// There is no input\n",
    "operation MyExample() : Unit{\n",
    "    Message(\"\");\n",
    "}"
   ]
  },
  {
   "cell_type": "markdown",
   "metadata": {},
   "source": [
    "Now, if we try `MyExample?` we should see our summary"
   ]
  },
  {
   "cell_type": "code",
   "execution_count": 14,
   "metadata": {},
   "outputs": [
    {
     "data": {
      "application/json": "{\"name\":\"MyExample\",\"kind\":3,\"source\":\"/Users/nikourriola/Desktop/projects/codeforcesqsharp/obj/__snippets__.dll\",\"documentation\":\"An example of user added documentation\\n # Input #\\n There is no input\"}",
      "text/html": [
       "<h4><i class=\"fa fas fa-terminal\"></i> MyExample <a href=\"/Users/nikourriola/Desktop/projects/codeforcesqsharp/obj/__snippets__.dll\"><i class=\"fa fas fa-code\"></i></a></h4><p>An example of user added documentation</p>\n",
       "<h1>Input</h1>\n",
       "<p>There is no input</p>\n"
      ],
      "text/plain": [
       "MyExample"
      ]
     },
     "execution_count": 14,
     "metadata": {},
     "output_type": "execute_result"
    }
   ],
   "source": [
    "MyExample?"
   ]
  },
  {
   "cell_type": "markdown",
   "metadata": {},
   "source": [
    "`%who` returns all **local** and **workspace** operations available"
   ]
  },
  {
   "cell_type": "code",
   "execution_count": 15,
   "metadata": {},
   "outputs": [
    {
     "data": {
      "application/json": "[\"MyExample\",\"NextRandomBit\",\"PrepareRandomMessage\",\"SayHello\",\"SayHelloPI\",\"SayHelloQ\",\"SetMinus\",\"SetPlus\",\"TestPrepareQubits\"]",
      "text/html": [
       "<ul><li>MyExample</li><li>NextRandomBit</li><li>PrepareRandomMessage</li><li>SayHello</li><li>SayHelloPI</li><li>SayHelloQ</li><li>SetMinus</li><li>SetPlus</li><li>TestPrepareQubits</li></ul>"
      ],
      "text/plain": [
       "MyExample, NextRandomBit, PrepareRandomMessage, SayHello, SayHelloPI, SayHelloQ, SetMinus, SetPlus, TestPrepareQubits"
      ]
     },
     "execution_count": 15,
     "metadata": {},
     "output_type": "execute_result"
    }
   ],
   "source": [
    "%who"
   ]
  },
  {
   "cell_type": "code",
   "execution_count": null,
   "metadata": {},
   "outputs": [],
   "source": []
  }
 ],
 "metadata": {
  "kernelspec": {
   "display_name": "Q#",
   "language": "qsharp",
   "name": "iqsharp"
  },
  "language_info": {
   "file_extension": ".qs",
   "mimetype": "text/x-qsharp",
   "name": "qsharp",
   "version": "0.10"
  }
 },
 "nbformat": 4,
 "nbformat_minor": 2
}
