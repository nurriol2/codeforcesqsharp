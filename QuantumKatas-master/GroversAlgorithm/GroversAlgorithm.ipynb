{
 "cells": [
  {
   "cell_type": "markdown",
   "metadata": {},
   "source": [
    "# Grover's Algorithm\n",
    "\n",
    "The **Grover's Search** quantum kata is a series of exercises designed\n",
    "to get you familiar with Grover's search algorithm.\n",
    "\n",
    "It covers the following topics:\n",
    "\n",
    "* writing oracles for Grover's search,\n",
    "* performing steps of the algorithm, and\n",
    "* putting it all together: Grover's search algorithm.\n",
    "\n",
    "*Reading material:*\n",
    "\n",
    "* The tasks follow the explanation from *Quantum Computation and Quantum Information* by Nielsen and Chuang.\n",
    "  In the 10th anniversary edition, this is section 6.1.2 on pages 248-251.\n",
    "* A different explanation of Grover's algorithm can be found in \n",
    "  [this Wikipedia article](https://en.wikipedia.org/wiki/Grover%27s_algorithm).\n",
    "* [An Introduction to Quantum Algorithms](https://people.cs.umass.edu/~strubell/doc/quantum_tutorial.pdf) by Emma Strubell, pages 20-24.\n",
    "* [Lecture 4: Grover's Algorithm](https://www.cs.cmu.edu/~odonnell/quantum15/lecture04.pdf) by John Wright.\n",
    "* Lectures [12](https://cs.uwaterloo.ca/~watrous/LectureNotes/CPSC519.Winter2006/12.pdf) and [13](https://cs.uwaterloo.ca/~watrous/LectureNotes/CPSC519.Winter2006/13.pdf) by John Watrous.\n",
    "* [This page](http://davidbkemp.github.io/animated-qubits/grover.html) has an animated demonstration of Grover's algorithm for a simple case.\n",
    "\n",
    "Each task is wrapped in one operation preceded by the description of the task.\n",
    "Your goal is to fill in the blanks (marked with the `// ...` comments)\n",
    "with some Q# code that solves the task.  To verify your answer, run the cell with Ctrl/⌘+Enter.\n",
    "\n",
    "Within each section, tasks are given in approximate order of increasing difficulty;\n",
    "harder ones are marked with asterisks."
   ]
  },
  {
   "cell_type": "markdown",
   "metadata": {},
   "source": [
    "To begin, first prepare this notebook for execution (if you skip this step, you'll get \"Syntax does not match any known patterns\" error when you try to execute Q# code in the next cells):"
   ]
  },
  {
   "cell_type": "code",
   "execution_count": 1,
   "metadata": {},
   "outputs": [
    {
     "data": {
      "application/json": "{\"LastUpdated\":\"2020-06-16T22:43:58.638716-05:00\",\"IsCompleted\":true,\"Description\":\"Adding package Microsoft.Quantum.Katas::0.11.2004.2825\",\"Subtask\":\"done\"}",
      "text/plain": [
       "Adding package Microsoft.Quantum.Katas::0.11.2004.2825: done!"
      ]
     },
     "metadata": {},
     "output_type": "display_data"
    },
    {
     "data": {
      "application/json": "[\"Microsoft.Quantum.Standard::0.11.2004.2825\",\"Microsoft.Quantum.Katas::0.11.2004.2825\"]",
      "text/html": [
       "<ul><li>Microsoft.Quantum.Standard::0.11.2004.2825</li><li>Microsoft.Quantum.Katas::0.11.2004.2825</li></ul>"
      ],
      "text/plain": [
       "Microsoft.Quantum.Standard::0.11.2004.2825, Microsoft.Quantum.Katas::0.11.2004.2825"
      ]
     },
     "execution_count": 1,
     "metadata": {},
     "output_type": "execute_result"
    }
   ],
   "source": [
    "%package Microsoft.Quantum.Katas::0.11.2004.2825"
   ]
  },
  {
   "cell_type": "markdown",
   "metadata": {},
   "source": [
    "> The package versions in the output of the cell above should always match. If you are running the Notebooks locally and the versions do not match, please install the IQ# version that matches the version of the `Microsoft.Quantum.Katas` package.\n",
    "> <details>\n",
    "> <summary><u>How to install the right IQ# version</u></summary>\n",
    "> For example, if the version of `Microsoft.Quantum.Katas` package above is 0.1.2.3, the installation steps are as follows:\n",
    ">\n",
    "> 1. Stop the kernel.\n",
    "> 2. Uninstall the existing version of IQ#:\n",
    ">        dotnet tool uninstall microsoft.quantum.iqsharp -g\n",
    "> 3. Install the matching version:\n",
    ">        dotnet tool install microsoft.quantum.iqsharp -g --version 0.1.2.3\n",
    "> 4. Reinstall the kernel:\n",
    ">        dotnet iqsharp install\n",
    "> 5. Restart the Notebook.\n",
    "> </details>\n"
   ]
  },
  {
   "cell_type": "markdown",
   "metadata": {},
   "source": [
    "## Part I. Oracles for Grover's Search\n"
   ]
  },
  {
   "cell_type": "markdown",
   "metadata": {},
   "source": [
    "### Task 1.1. The $|11...1\\rangle$ Oracle\n",
    "**Inputs:** \n",
    "\n",
    "  1. N qubits in an arbitrary state $|x\\rangle$ (input/query register)\n",
    "\n",
    "  2. A qubit in an arbitrary state $|y\\rangle$ (target qubit)\n",
    "\n",
    "**Goal:**\n",
    "\n",
    "Flip the state of the target qubit (i.e., apply an X gate to it)\n",
    "if the query register is in the $|11...1\\rangle$ state,\n",
    "and leave it unchanged if the query register is in any other state.\n",
    "Leave the query register in the same state it started in.\n",
    "\n",
    "**Examples:**\n",
    "\n",
    "* If the query register is in state $|00...0\\rangle$, leave the target qubit unchanged.\n",
    "\n",
    "* If the query register is in state $|10...0\\rangle$, leave the target qubit unchanged.\n",
    "\n",
    "* If the query register is in state $|11...1\\rangle$, flip the target qubit.\n",
    "\n",
    "* If the query register is in state $\\frac{1}{\\sqrt{2}} \\big(|00...0\\rangle + |11...1\\rangle \\big)$, and the target is in state $|0\\rangle$,\n",
    "the joint state of the query register and the target qubit should be $\\frac{1}{\\sqrt{2}} \\big(|00...00\\rangle + |11...11\\rangle \\big)$."
   ]
  },
  {
   "cell_type": "markdown",
   "metadata": {},
   "source": [
    "Remember that CNOT on a **register** of qubits checks that ALL qubits are in |1> "
   ]
  },
  {
   "cell_type": "code",
   "execution_count": 2,
   "metadata": {},
   "outputs": [
    {
     "data": {
      "application/json": "\"Success!\"",
      "text/plain": [
       "Success!"
      ]
     },
     "execution_count": 2,
     "metadata": {},
     "output_type": "execute_result"
    }
   ],
   "source": [
    "%kata T11_Oracle_AllOnes_Test \n",
    "\n",
    "open Microsoft.Quantum.Diagnostics;\n",
    "\n",
    "operation Oracle_AllOnes (queryRegister : Qubit[], target : Qubit) : Unit is Adj {\n",
    "    Controlled X(queryRegister, target);\n",
    "}"
   ]
  },
  {
   "cell_type": "markdown",
   "metadata": {},
   "source": [
    "### Task 1.2. The $|1010...\\rangle$ Oracle\n",
    "\n",
    "**Inputs:**\n",
    "\n",
    "  1. N qubits in an arbitrary state $|x\\rangle$ (input/query register)\n",
    "\n",
    "  2. A qubit in an arbitrary state $|y\\rangle$ (target qubit)\n",
    "\n",
    "**Goal:**\n",
    "\n",
    "  Flip the state of the target qubit if the query register is in the $|1010...\\rangle$ state;\n",
    "that is, the state with alternating 1 and 0 values, with any number of qubits in the register.\n",
    "Leave the state of the target qubit unchanged if the query register is in any other state.\n",
    "Leave the query register in the same state it started in.\n",
    "\n",
    "**Examples:**\n",
    "\n",
    " * If the register is in state $|0000000\\rangle$, leave the target qubit unchanged.\n",
    " * If the register is in state $|10101\\rangle$, flip the target qubit."
   ]
  },
  {
   "cell_type": "markdown",
   "metadata": {},
   "source": [
    "If you follow the goal explicitly, you can notice that you are guranteed that the 0th qubit is a 1<br>\n",
    ".:. flipping the \"odd\" positions will put the register in the |1...1> state<br>\n",
    "also notice that you can make this observation work on a conditional<br> \n",
    "*measure the first qubit<br>\n",
    "if it's a 0 then you flip the evens*"
   ]
  },
  {
   "cell_type": "markdown",
   "metadata": {},
   "source": [
    "1. Learned the syntax for range(start, end, step) in Q#!\n",
    "2. `within{} apply{}` is called **conjugations**<br>\n",
    "according to the `quickref.pdf`, it's applying $ABA^{T}$<br>\n",
    "**NB** i'm not sure which operators A and B would be in this case"
   ]
  },
  {
   "cell_type": "code",
   "execution_count": 12,
   "metadata": {},
   "outputs": [
    {
     "data": {
      "application/json": "\"Success!\"",
      "text/plain": [
       "Success!"
      ]
     },
     "execution_count": 12,
     "metadata": {},
     "output_type": "execute_result"
    }
   ],
   "source": [
    "%kata T12_Oracle_AlternatingBits_Test \n",
    "\n",
    "operation Oracle_AlternatingBits (queryRegister : Qubit[], target : Qubit) : Unit is Adj {\n",
    "    let N = Length(queryRegister);\n",
    "    within{\n",
    "        for (i in 1..2..N-1){\n",
    "            X(queryRegister[i]);\n",
    "        }\n",
    "    } apply{\n",
    "        Controlled X(queryRegister, target);\n",
    "    }\n",
    "}"
   ]
  },
  {
   "cell_type": "markdown",
   "metadata": {},
   "source": [
    "### Task 1.3. Arbitrary Bit Pattern Oracle\n",
    "\n",
    "**Inputs:**\n",
    "\n",
    "  1. N qubits in an arbitrary state $|x\\rangle$ (input/query register)\n",
    "\n",
    "  2. A qubit in an arbitrary state $|y\\rangle$ (target qubit)\n",
    "\n",
    "  3. A bit pattern of length N represented as `Bool[]`\n",
    "\n",
    "**Goal:**\n",
    "\n",
    "  Flip the state of the target qubit if the query register is in the state described by the given bit pattern\n",
    "(`true` represents qubit state One, and `false` represents Zero).\n",
    "Leave the state of the target qubit unchanged if the query register is in any other state.\n",
    "Leave the query register in the same state it started in.\n",
    "\n",
    "**Example:**\n",
    "\n",
    "  If the bit pattern is `[true, false]`, you need to flip the target qubit if and only if the qubits are in the $|10\\rangle$ state."
   ]
  },
  {
   "cell_type": "code",
   "execution_count": 15,
   "metadata": {},
   "outputs": [
    {
     "data": {
      "application/json": "\"Success!\"",
      "text/plain": [
       "Success!"
      ]
     },
     "execution_count": 15,
     "metadata": {},
     "output_type": "execute_result"
    }
   ],
   "source": [
    "%kata T13_Oracle_ArbitraryPattern_Test \n",
    "\n",
    "operation Oracle_ArbitraryPattern (queryRegister : Qubit[], target : Qubit, pattern : Bool[]) : Unit is Adj {\n",
    "    (ControlledOnBitString(pattern, X))(queryRegister, target);\n",
    "}"
   ]
  },
  {
   "cell_type": "markdown",
   "metadata": {},
   "source": [
    "### Task 1.4. Oracle Converter\n",
    "\n",
    "**Input:**\n",
    "\n",
    "A marking oracle: an oracle that takes a register and a target qubit and\n",
    "flips the target qubit if the register satisfies a certain condition.\n",
    "\n",
    "**Output:**\n",
    "\n",
    "A phase-flipping oracle: an oracle that takes a register and\n",
    "flips the phase of the register if it satisfies this condition.\n",
    "\n",
    "> Grover's algorithm relies on the search condition implemented as a phase-flipping oracle,\n",
    "but it is often easier to write a marking oracle for a given condition. This transformation\n",
    "allows to convert one type of oracle into the other. The transformation is described in the \n",
    "[Wikipedia article on Grover's algorithm](https://en.wikipedia.org/wiki/Grover%27s_algorithm), in the section \"Description of ${U_\\omega}$\".\n",
    "\n",
    "<br/>\n",
    "<details>\n",
    "  <summary><b>Need a hint? Click here</b></summary>\n",
    "    Remember that you can define auxiliary operations. To do that, you'll need to create an extra code cell for each new operation and execute it before returning to this cell.\n",
    "</details>"
   ]
  },
  {
   "cell_type": "markdown",
   "metadata": {},
   "source": [
    "1. the **phase kickback** trick is being used here => need to study this topic\n",
    "2. the extra operation that we had to implement was just an implementation of the first steps of grover's alg\n",
    "    - why is this the correct thing to do?\n",
    "3. the `witihin{} apply{}` explained:\n",
    "    - saying do the body of `apply` without releasing the state of the qubits `within`\n",
    "    - not clear how this is different from applying all gates *inside of* the `using` body"
   ]
  },
  {
   "cell_type": "code",
   "execution_count": 18,
   "metadata": {},
   "outputs": [
    {
     "data": {
      "application/json": "[\"ApplyMarkingOracle\"]",
      "text/html": [
       "<ul><li>ApplyMarkingOracle</li></ul>"
      ],
      "text/plain": [
       "ApplyMarkingOracle"
      ]
     },
     "execution_count": 18,
     "metadata": {},
     "output_type": "execute_result"
    }
   ],
   "source": [
    "operation ApplyMarkingOracle (markingOracle : ((Qubit[], Qubit) => Unit is Adj), register : Qubit[]) : Unit is Adj {\n",
    "    using (target=Qubit()){\n",
    "        within{\n",
    "            X(target);\n",
    "            H(target);\n",
    "        }\n",
    "        apply{\n",
    "            markingOracle(register, target);\n",
    "        }\n",
    "    }\n",
    "}"
   ]
  },
  {
   "cell_type": "code",
   "execution_count": 19,
   "metadata": {},
   "outputs": [
    {
     "data": {
      "application/json": "\"Success!\"",
      "text/plain": [
       "Success!"
      ]
     },
     "execution_count": 19,
     "metadata": {},
     "output_type": "execute_result"
    }
   ],
   "source": [
    "%kata T14_OracleConverter_Test \n",
    "\n",
    "function OracleConverter (markingOracle : ((Qubit[], Qubit) => Unit is Adj)) : (Qubit[] => Unit is Adj) {\n",
    "    return ApplyMarkingOracle(markingOracle, _);\n",
    "}"
   ]
  },
  {
   "cell_type": "markdown",
   "metadata": {},
   "source": [
    "## Part II. The Grover Iteration"
   ]
  },
  {
   "cell_type": "markdown",
   "metadata": {},
   "source": [
    "### Task 2.1. The Hadamard Transform\n",
    "\n",
    "**Input:** A register of N qubits in an arbitrary state\n",
    "\n",
    "**Goal:** Apply the Hadamard transform to each of the qubits in the register.\n",
    "\n",
    "> If the register started in the $|0...0\\rangle$ state, this operation\n",
    "will prepare an equal superposition of all $2^{N}$ basis states."
   ]
  },
  {
   "cell_type": "code",
   "execution_count": 20,
   "metadata": {},
   "outputs": [
    {
     "data": {
      "application/json": "\"Success!\"",
      "text/plain": [
       "Success!"
      ]
     },
     "execution_count": 20,
     "metadata": {},
     "output_type": "execute_result"
    }
   ],
   "source": [
    "%kata T21_HadamardTransform_Test \n",
    "\n",
    "operation HadamardTransform (register : Qubit[]) : Unit is Adj {\n",
    "    for (qubit in register){\n",
    "        H(qubit);\n",
    "    }\n",
    "}"
   ]
  },
  {
   "cell_type": "markdown",
   "metadata": {},
   "source": [
    "### Task 2.2. Conditional Phase Flip\n",
    "\n",
    "**Input:**  A register of N qubits in an arbitrary state.\n",
    "\n",
    "**Goal:**  Flip the sign of the state of the register if it is not in the $|0...0\\rangle$ state.\n",
    "\n",
    "**Examples:**\n",
    "\n",
    " * If the register is in state $|0...0\\rangle$, leave it unchanged.\n",
    "\n",
    " * If the register is in any other basis state, multiply its phase by -1.\n",
    "\n",
    "> This operation implements operator $2|0...0\\rangle\\langle0...0| - I$ $ = \\left(\\begin{matrix}1&0&...&0\\\\0&-1&...&0\\\\\\vdots&\\vdots&\\ddots&\\vdots\\\\0&0&...&-1\\end{matrix}\\right) $\n",
    "\n",
    "<br/>\n",
    "<details>\n",
    "  <summary><b>Need a hint? Click here</b></summary>\n",
    "    Note that quantum states are defined up to a global phase.\n",
    "    Thus the state obtained as a result of this operation is equivalent to the state obtained by flipping the sign of only the $|0...0\\rangle$ basis state (those states differ by a global phase -1).<br>\n",
    "    $$-\\big(2|0...0\\rangle\\langle0...0| - I\\big) = I - 2|0...0\\rangle\\langle0...0| = \\left(\\begin{matrix}-1&0&...&0\\\\0&1&...&0\\\\\\vdots&\\vdots&\\ddots&\\vdots\\\\0&0&...&1\\end{matrix}\\right) $$<br>\n",
    "</details>\n",
    "<br/>\n",
    "\n",
    "<details>\n",
    "  <summary><b>Need another hint? Click here</b></summary>\n",
    "    Consider the Controlled Z gate, applied with most of the qubits as control and the last qubit as target:\n",
    "    $\\text{Controlled Z}(|s_0 s_1 \\ldots s_{n-2}\\rangle, |s_{n-1}\\rangle)$ leaves all basis states except $|1...11\\rangle$ unchanged, and adds a $-1$ phase to that state: $|1...11\\rangle \\rightarrow -|1...11\\rangle$ (remember that $Z|0\\rangle = |0\\rangle$ and $Z|1\\rangle = -|1\\rangle$). \n",
    "    You need to modify it to add the $-1$ phase to only the $|0...00\\rangle$ state instead.\n",
    "    <br/><br/>\n",
    "    Alternatively, you can use the same trick as in the oracle converter task.<br>\n",
    "</details>"
   ]
  },
  {
   "cell_type": "markdown",
   "metadata": {},
   "source": [
    "1. definitely understood that using a Z gate would add the necessary global phase\n",
    "2. this operation works on the basis that the phase being changed is the phase of |0...0>\n",
    "    - all states are defined only up to a global phase (because global phase is not observable)\n",
    "    - so we can think about grover's algorithm working to change |x> phase\n",
    "    - **OR** we can think about it **changing the phase of |0...0>**\n",
    "    - **THE END RESULT IS THE SAME**\n",
    "3. in the code itself\n",
    "    - need to study conjugates more\n",
    "    - learned about Arrays methods `Most` and `Tail` (could be convenient)\n",
    "4. **the new goal is to flip the phase of the |0...0>**\n",
    "    - if we have |0...0> as input...\n",
    "    - take advantage of controlled gates by doing a CZ on the Tail qubit\n",
    "        - NB we only want to introduce 1 phase flip at most; that's why we don't flip on every instance of One"
   ]
  },
  {
   "cell_type": "code",
   "execution_count": 27,
   "metadata": {},
   "outputs": [
    {
     "data": {
      "application/json": "\"Success!\"",
      "text/plain": [
       "Success!"
      ]
     },
     "execution_count": 27,
     "metadata": {},
     "output_type": "execute_result"
    }
   ],
   "source": [
    "%kata T22_ConditionalPhaseFlip_Test \n",
    "\n",
    "open Microsoft.Quantum.Arrays;\n",
    "\n",
    "operation ConditionalPhaseFlip (register : Qubit[]) : Unit is Adj {\n",
    "    \n",
    "    within{\n",
    "    ApplyToEachA(X, register);\n",
    "    } apply{\n",
    "    (Controlled Z)(Most(register), Tail(register));\n",
    "    }\n",
    "    \n",
    "    \n",
    "}"
   ]
  },
  {
   "cell_type": "markdown",
   "metadata": {},
   "source": [
    "### Task 2.3. The Grover Iteration\n",
    "\n",
    "**Inputs:**\n",
    "\n",
    "  1. N qubits in an arbitrary state $|x\\rangle$ (input/query register)\n",
    "\n",
    "  2. A phase-flipping oracle that takes an N-qubit register and flips\n",
    "     the phase of the state if the register is in the desired state.\n",
    "\n",
    "**Goal:**  Perform one Grover iteration.\n",
    "\n",
    "<br/>\n",
    "<details>\n",
    "  <summary><b>Need a hint? Click here</b></summary>\n",
    "    A Grover iteration consists of 4 steps:\n",
    "    <ol>\n",
    "    <li>Apply the Oracle</li>\n",
    "    <li>Apply the Hadamard transform</li>\n",
    "    <li>Perform a conditional phase shift</li>\n",
    "    <li>Apply the Hadamard transform again</li>\n",
    "    </ol>\n",
    "</details>"
   ]
  },
  {
   "cell_type": "code",
   "execution_count": 30,
   "metadata": {},
   "outputs": [
    {
     "data": {
      "application/json": "\"Success!\"",
      "text/plain": [
       "Success!"
      ]
     },
     "execution_count": 30,
     "metadata": {},
     "output_type": "execute_result"
    }
   ],
   "source": [
    "%kata T23_GroverIteration_Test \n",
    "\n",
    "operation GroverIteration (register : Qubit[], oracle : (Qubit[] => Unit is Adj)) : Unit is Adj {\n",
    "    oracle(register);\n",
    "    ApplyToEachA(H, register);\n",
    "    ConditionalPhaseFlip(register);\n",
    "    ApplyToEachA(H, register);\n",
    "}"
   ]
  },
  {
   "cell_type": "markdown",
   "metadata": {},
   "source": [
    "## Part III. Putting It All Together: Grover's Search Algorithm"
   ]
  },
  {
   "cell_type": "markdown",
   "metadata": {},
   "source": [
    "### Task 3.1. Grover's Search\n",
    "\n",
    "**Inputs:**\n",
    "\n",
    "  1. N qubits in the $|0...0\\rangle$ state.\n",
    "\n",
    "  2. A marking oracle.\n",
    "\n",
    "  3. The number of Grover iterations to perform.\n",
    "\n",
    "**Goal:** Use Grover's algorithm to leave the register in the state that is marked by the oracle as the answer (with high probability).\n",
    "\n",
    "> The number of iterations is passed as a parameter because it is defined by the nature of the problem\n",
    "and is easier to configure/calculate outside the search algorithm itself (for example, in the classical driver)."
   ]
  },
  {
   "cell_type": "markdown",
   "metadata": {},
   "source": [
    "1. Why do i have to `ApplyToEach(H, register);` before entering the for loop? Doesn't `GroverIteration` handle that?\n",
    "2. from notes:\n",
    "    - GroverIteration takes inputs:  `Qubit[]`, `PHASE ORACLE`\n",
    "    - Given in problem:  `Qubit[]`, `MARKING ORACLE`\n",
    "    - *know*:  `OracleConverter(...)` brings `MARKING ORACLE` to `PHASE ORACLE`\n",
    "3. notice that the for loop starts at the 1th qubit\n",
    "    - does that mean the 0th qubit is the "
   ]
  },
  {
   "cell_type": "code",
   "execution_count": 46,
   "metadata": {},
   "outputs": [
    {
     "data": {
      "application/json": "\"Success!\"",
      "text/plain": [
       "Success!"
      ]
     },
     "execution_count": 46,
     "metadata": {},
     "output_type": "execute_result"
    }
   ],
   "source": [
    "%kata T31_GroversSearch_Test \n",
    "\n",
    "operation GroversSearch (register : Qubit[], oracle : ((Qubit[], Qubit) => Unit is Adj), iterations : Int) : Unit {\n",
    "    \n",
    "    let phaseOracle = OracleConverter(oracle);\n",
    "    HadamardTransform(register);\n",
    "    for (i in 1..iterations){\n",
    "\n",
    "        GroverIteration(register, phaseOracle);\n",
    "\n",
    "    }\n",
    "}"
   ]
  },
  {
   "cell_type": "markdown",
   "metadata": {},
   "source": [
    "### Task 3.2. Using Grover's Search\n",
    "\n",
    "**Goal:**   Use your implementation of Grover's Algorithm from Task 3.1 and the oracles from part 1\n",
    "  to find the marked elements of the search space. This task is not covered by a test and allows you to experiment with running the algorithm.\n",
    "  \n",
    "> This is an open-ended task, and is not covered by a unit test. To run the code, execute the cell with the definition of the `Run_GroversSearch_Algorithm` operation first; if it compiled successfully without any errors, you can run the operation by executing the next cell (`%simulate Run_GroversSearch_Algorithm`).\n",
    "\n",
    "> Note that this task relies on your implementations of the previous tasks. If you are getting the \"No variable with that name exists.\" error, you might have to execute previous code cells before retrying this task.\n",
    "\n",
    "<details closed>\n",
    "  <summary><b>Hint #1</b></summary>\n",
    "    To check whether the algorithm found the correct answer (i.e., an answer marked as 1 by the oracle),\n",
    "    you can apply the oracle once more to the register after you've measured it and an ancilla qubit,\n",
    "    which will calculate the function of the answer found by the algorithm.\n",
    "</details>\n",
    "<br/>\n",
    "<details closed>\n",
    "  <summary><b>Hint #2</b></summary>\n",
    "    Experiment with the number of iterations to see how it affects\n",
    "    the probability of the algorithm finding the correct answer.\n",
    "</details>\n",
    "<br/>\n",
    "<details closed>\n",
    "  <summary><b>Hint #3</b></summary>\n",
    "    You can use the Message function to output the results.\n",
    "</details>"
   ]
  },
  {
   "cell_type": "code",
   "execution_count": null,
   "metadata": {},
   "outputs": [],
   "source": [
    "operation Run_GroversSearch_Algorithm () : Unit {\n",
    "    // ...\n",
    "}"
   ]
  },
  {
   "cell_type": "code",
   "execution_count": null,
   "metadata": {},
   "outputs": [],
   "source": [
    "%simulate Run_GroversSearch_Algorithm"
   ]
  }
 ],
 "metadata": {
  "kernelspec": {
   "display_name": "Q#",
   "language": "qsharp",
   "name": "iqsharp"
  },
  "language_info": {
   "file_extension": ".qs",
   "mimetype": "text/x-qsharp",
   "name": "qsharp",
   "version": "0.10"
  }
 },
 "nbformat": 4,
 "nbformat_minor": 2
}
