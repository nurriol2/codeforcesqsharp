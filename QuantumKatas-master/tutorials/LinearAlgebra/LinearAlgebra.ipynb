{
 "cells": [
  {
   "cell_type": "markdown",
   "metadata": {},
   "source": [
    "# Introduction to Linear Algebra\n",
    "\n",
    "This is a tutorial designed to introduce you to the basics of linear algebra.\n",
    "Linear algebra is a branch of mathematics dedicated to studying the properties of matrices and vectors,\n",
    "which are used extensively in quantum computing to represent quantum states and operations on them.\n",
    "This tutorial doesn't come close to covering the full breadth of the topic, but it should be enough to get you comfortable with the main concepts of linear algebra used in quantum computing.\n",
    "\n",
    "This tutorial assumes familiarity with complex numbers; if you need a review of this topic, we recommend that you complete the [Complex Arithmetic](../ComplexArithmetic/ComplexArithmetic.ipynb) tutorial before tackling this one.\n",
    "\n",
    "This tutorial covers the following topics:\n",
    "* Matrices and vectors\n",
    "* Basic matrix operations\n",
    "* Operations and properties of complex matrices\n",
    "* Inner and outer vector products\n",
    "* Tensor product\n",
    "* Eigenvalues and eigenvectors\n",
    "\n",
    "If you need to look up some formulas quickly, you can find them in [this cheatsheet](https://github.com/microsoft/QuantumKatas/blob/master/quickref/qsharp-quick-reference.pdf)."
   ]
  },
  {
   "cell_type": "markdown",
   "metadata": {},
   "source": [
    "This notebook has several tasks that require you to write Python code to test your understanding of the concepts. If you are not familiar with Python, [here](https://docs.python.org/3/tutorial/index.html) is a good introductory tutorial for it.\n",
    "\n",
    "> The exercises use Python's built-in representation of complex numbers. Most of the operations (addition, multiplication, etc.) work as you expect them to. Here are a few notes on Python-specific syntax:\n",
    ">\n",
    "> * If `z` is a complex number, `z.real` is the real component, and `z.imag` is the coefficient of the imaginary component.\n",
    "> * To represent an imaginary number, put `j` after a real number: $3.14i$ would be `3.14j`.\n",
    "> * To represent a complex number, simply add a real number and an imaginary number.\n",
    "> * The built-in function `abs` computes the modulus of a complex number.\n",
    ">\n",
    "> You can find more information in the [official documentation](https://docs.python.org/3/library/cmath.html).\n",
    "\n",
    "Let's start by importing some useful mathematical functions and constants, and setting up a few things necessary for testing the exercises. **Do not skip this step.**\n",
    "\n",
    "Click the cell with code below this block of text and press `Ctrl+Enter` (`⌘+Enter` on Mac)."
   ]
  },
  {
   "cell_type": "code",
   "execution_count": 1,
   "metadata": {},
   "outputs": [
    {
     "name": "stdout",
     "output_type": "stream",
     "text": [
      "Success!\n"
     ]
    }
   ],
   "source": [
    "# Run this cell using Ctrl+Enter (⌘+Enter on Mac).\n",
    "from testing import exercise, create_empty_matrix\n",
    "from typing import List\n",
    "\n",
    "import math, cmath\n",
    "\n",
    "Matrix = List[List[complex]]"
   ]
  },
  {
   "cell_type": "markdown",
   "metadata": {},
   "source": [
    "# Part I. Matrices and Basic Operations\n",
    "\n",
    "## Matrices and Vectors\n",
    "\n",
    "A **matrix** is set of numbers arranged in a rectangular grid. Here is a $2$ by $2$ matrix:\n",
    "\n",
    "$$A =\n",
    "\\begin{bmatrix} 1 & 2 \\\\ 3 & 4 \\end{bmatrix}$$\n",
    "\n",
    "$A_{i,j}$ refers to the element in row $i$ and column $j$ of matrix $A$ (all indices are 0-based). In the above example, $A_{0,1} = 2$.\n",
    "\n",
    "An $n \\times m$ matrix will have $n$ rows and $m$ columns, like so:\n",
    "\n",
    "$$\\begin{bmatrix}\n",
    "    x_{0,0} & x_{0,1} & \\dotsb & x_{0,m-1} \\\\\n",
    "    x_{1,0} & x_{1,1} & \\dotsb & x_{1,m-1} \\\\\n",
    "    \\vdots  & \\vdots  & \\ddots & \\vdots  \\\\\n",
    "    x_{n-1,0} & x_{n-1,1} & \\dotsb & x_{n-1,m-1}\n",
    "\\end{bmatrix}$$\n",
    "\n",
    "A $1 \\times 1$ matrix is equivalent to a scalar:\n",
    "\n",
    "$$\\begin{bmatrix} 3 \\end{bmatrix} = 3$$\n",
    "\n",
    "Quantum computing uses complex-valued matrices: the elements of a matrix can be complex numbers. This, for example, is a valid complex-valued matrix:\n",
    "\n",
    "$$\\begin{bmatrix}\n",
    "    1 & i \\\\\n",
    "    -2i & 3 + 4i\n",
    "\\end{bmatrix}$$\n",
    "\n",
    "Finally, a **vector** is an $n \\times 1$ matrix. Here, for example, is a $3 \\times 1$ vector:\n",
    "\n",
    "$$V = \\begin{bmatrix} 1 \\\\ 2i \\\\ 3 + 4i \\end{bmatrix}$$\n",
    "\n",
    "Since vectors always have a width of $1$, vector elements are sometimes written using only one index. In the above example, $V_0 = 1$ and $V_1 = 2i$."
   ]
  },
  {
   "cell_type": "markdown",
   "metadata": {},
   "source": [
    "## Matrix Addition\n",
    "\n",
    "The easiest matrix operation is **matrix addition**. Matrix addition works between two matrices of the same size, and adds each number from the first matrix to the number in the same position in the second matrix:\n",
    "\n",
    "$$\\begin{bmatrix}\n",
    "    x_{0,0} & x_{0,1} & \\dotsb & x_{0,m-1} \\\\\n",
    "    x_{1,0} & x_{1,1} & \\dotsb & x_{1,m-1} \\\\\n",
    "    \\vdots  & \\vdots  & \\ddots & \\vdots  \\\\\n",
    "    x_{n-1,0} & x_{n-1,1} & \\dotsb & x_{n-1,m-1}\n",
    "\\end{bmatrix}\n",
    "+\n",
    "\\begin{bmatrix}\n",
    "    y_{0,0} & y_{0,1} & \\dotsb & y_{0,m-1} \\\\\n",
    "    y_{1,0} & y_{1,1} & \\dotsb & y_{1,m-1} \\\\\n",
    "    \\vdots  & \\vdots  & \\ddots & \\vdots  \\\\\n",
    "    y_{n-1,0} & y_{n-1,1} & \\dotsb & y_{n-1,m-1}\n",
    "\\end{bmatrix}\n",
    "=\n",
    "\\begin{bmatrix}\n",
    "    x_{0,0} + y_{0,0} & x_{0,1} + y_{0,1} & \\dotsb & x_{0,m-1} + y_{0,m-1} \\\\\n",
    "    x_{1,0} + y_{1,0} & x_{1,1} + y_{1,1} & \\dotsb & x_{1,m-1} + y_{1,m-1} \\\\\n",
    "    \\vdots  & \\vdots  & \\ddots & \\vdots  \\\\\n",
    "    x_{n-1,0} + y_{n-1,0} & x_{n-1,1} + y_{n-1,1} & \\dotsb & x_{n-1,m-1} + y_{n-1,m-1}\n",
    "\\end{bmatrix}$$\n",
    "\n",
    "Similarly, we can compute $A - B$ by subtracting elements of $B$ from corresponding elements of $A$.\n",
    "\n",
    "Matrix addition has the following properties:\n",
    "\n",
    "* Commutativity: $A + B = B + A$\n",
    "* Associativity: $(A + B) + C = A + (B + C)$"
   ]
  },
  {
   "cell_type": "markdown",
   "metadata": {},
   "source": [
    "### <span style=\"color:blue\">Exercise 1</span>: Matrix addition.\n",
    "\n",
    "**Inputs:**\n",
    "\n",
    "1. An $n \\times m$ matrix $A$, represented as a two-dimensional list.\n",
    "2. An $n \\times m$ matrix $B$, represented as a two-dimensional list.\n",
    "\n",
    "**Output:** Return the sum of the matrices $A + B$ - an $n \\times m$ matrix, represented as a two-dimensional list.\n",
    "\n",
    "> When representing matrices as lists, each sub-list represents a row.\n",
    ">\n",
    "> For example, list `[[1, 2], [3, 4]]` represents the following matrix:\n",
    ">\n",
    "> $$\\begin{bmatrix}\n",
    "    1 & 2 \\\\\n",
    "    3 & 4\n",
    "\\end{bmatrix}$$\n",
    "\n",
    "Fill in the missing code and run the cell below to test your work.\n",
    "\n",
    "<br/>\n",
    "<details>\n",
    "    <summary><b>Need a hint? Click here</b></summary>\n",
    "    A video explanation can be found <a href=\"https://www.youtube.com/watch?v=WR9qCSXJlyY\">here</a>.\n",
    "</details>"
   ]
  },
  {
   "cell_type": "code",
   "execution_count": 2,
   "metadata": {},
   "outputs": [
    {
     "name": "stdout",
     "output_type": "stream",
     "text": [
      "Success!\n"
     ]
    }
   ],
   "source": [
    "@exercise\n",
    "def matrix_add(a : Matrix, b : Matrix) -> Matrix:\n",
    "    # You can get the size of a matrix like this:\n",
    "    rows = len(a)\n",
    "    columns = len(a[0])\n",
    "    \n",
    "    # You can use the following function to initialize a rows×columns matrix filled with 0s to store your answer\n",
    "    c = create_empty_matrix(rows, columns)\n",
    "    \n",
    "    # You can use a for loop to execute its body several times;\n",
    "    # in this loop variable i will take on each value from 0 to n-1, inclusive\n",
    "    for i in range(rows):\n",
    "        # Loops can be nested\n",
    "        for j in range(columns):\n",
    "            # You can access elements of a matrix like this:\n",
    "            x = a[i][j]\n",
    "            y = b[i][j]\n",
    "            \n",
    "            # You can modify the elements of a matrix like this:\n",
    "            c[i][j] = x+y\n",
    "    \n",
    "    return c"
   ]
  },
  {
   "cell_type": "markdown",
   "metadata": {},
   "source": [
    "*Can't come up with a solution? See the explained solution in the [Linear Algebra Workbook](./Workbook_LinearAlgebra.ipynb#Exercise-1:-Matrix-addition.).*"
   ]
  },
  {
   "cell_type": "markdown",
   "metadata": {},
   "source": [
    "## Scalar Multiplication\n",
    "\n",
    "The next matrix operation is **scalar multiplication** - multiplying the entire matrix by a scalar (real or complex number):\n",
    "\n",
    "$$a \\cdot\n",
    "\\begin{bmatrix}\n",
    "    x_{0,0} & x_{0,1} & \\dotsb & x_{0,m-1} \\\\\n",
    "    x_{1,0} & x_{1,1} & \\dotsb & x_{1,m-1} \\\\\n",
    "    \\vdots  & \\vdots  & \\ddots & \\vdots  \\\\\n",
    "    x_{n-1,0} & x_{n-1,1} & \\dotsb & x_{n-1,m-1}\n",
    "\\end{bmatrix}\n",
    "=\n",
    "\\begin{bmatrix}\n",
    "    a \\cdot x_{0,0} & a \\cdot x_{0,1} & \\dotsb & a \\cdot x_{0,m-1} \\\\\n",
    "    a \\cdot x_{1,0} & a \\cdot x_{1,1} & \\dotsb & a \\cdot x_{1,m-1} \\\\\n",
    "    \\vdots  & \\vdots  & \\ddots & \\vdots  \\\\\n",
    "    a \\cdot x_{n-1,0} & a \\cdot x_{n-1,1} & \\dotsb & a \\cdot x_{n-1,m-1}\n",
    "\\end{bmatrix}$$\n",
    "\n",
    "Scalar multiplication has the following properties:\n",
    "\n",
    "* Associativity: $x \\cdot (yA) = (x \\cdot y)A$\n",
    "* Distributivity over matrix addition: $x(A + B) = xA + xB$\n",
    "* Distributivity over scalar addition: $(x + y)A = xA + yA$"
   ]
  },
  {
   "cell_type": "markdown",
   "metadata": {},
   "source": [
    "### <span style=\"color:blue\">Exercise 2</span>: Scalar multiplication.\n",
    "\n",
    "**Inputs:**\n",
    "\n",
    "1. A scalar $x$.\n",
    "2. An $n \\times m$ matrix $A$.\n",
    "\n",
    "**Output:** Return the $n \\times m$ matrix $x \\cdot A$.\n",
    "\n",
    "<br/>\n",
    "<details>\n",
    "    <summary><b>Need a hint? Click here</b></summary>\n",
    "    A video explanation can be found <a href=\"https://www.youtube.com/watch?v=TbaltFbJ3wE\">here</a>.\n",
    "</details>"
   ]
  },
  {
   "cell_type": "code",
   "execution_count": 3,
   "metadata": {},
   "outputs": [
    {
     "name": "stdout",
     "output_type": "stream",
     "text": [
      "Success!\n"
     ]
    }
   ],
   "source": [
    "@exercise\n",
    "def scalar_mult(x : complex, a : Matrix) -> Matrix:\n",
    "    rows = len(a)\n",
    "    cols = len(a[0])\n",
    "    \n",
    "    for i in range(rows):\n",
    "        for j in range(cols):\n",
    "            a[i][j] = x*a[i][j]\n",
    "    return a"
   ]
  },
  {
   "cell_type": "markdown",
   "metadata": {},
   "source": [
    "*Can't come up with a solution? See the explained solution in the [Linear Algebra Workbook](./Workbook_LinearAlgebra.ipynb#Exercise-2:-Scalar-multiplication.).*"
   ]
  },
  {
   "cell_type": "markdown",
   "metadata": {},
   "source": [
    "## Matrix Multiplication\n",
    "\n",
    "**Matrix multiplication** is a very important and somewhat unusual operation. The unusual thing about it is that neither its operands nor its output are the same size: an $n \\times m$ matrix multiplied by an $m \\times k$ matrix results in an $n \\times k$ matrix. \n",
    "That is, for matrix multiplication to be applicable, the number of columns in the first matrix must equal the number of rows in the second matrix.\n",
    "\n",
    "Here is how matrix product is calculated: if we are calculating $AB = C$, then\n",
    "\n",
    "$$C_{i,j} = A_{i,0} \\cdot B_{0,j} + A_{i,1} \\cdot B_{1,j} + \\dotsb + A_{i,m-1} \\cdot B_{m-1,j} = \\sum_{t = 0}^{m-1} A_{i,t} \\cdot B_{t,j}$$\n",
    "\n",
    "Here is a small example:\n",
    "\n",
    "$$\\begin{bmatrix}\n",
    "    \\color{blue} 1 & \\color{blue} 2 & \\color{blue} 3 \\\\\n",
    "    \\color{red}  4 & \\color{red}  5 & \\color{red}  6\n",
    "\\end{bmatrix}\n",
    "\\begin{bmatrix}\n",
    "    1 \\\\\n",
    "    2 \\\\\n",
    "    3\n",
    "\\end{bmatrix}\n",
    "=\n",
    "\\begin{bmatrix}\n",
    "    (\\color{blue} 1 \\cdot 1) + (\\color{blue} 2 \\cdot 2) + (\\color{blue} 3 \\cdot 3) \\\\\n",
    "    (\\color{red}  4 \\cdot 1) + (\\color{red}  5 \\cdot 2) + (\\color{red}  6 \\cdot 3)\n",
    "\\end{bmatrix}\n",
    "=\n",
    "\\begin{bmatrix}\n",
    "    14 \\\\\n",
    "    32\n",
    "\\end{bmatrix}$$"
   ]
  },
  {
   "cell_type": "markdown",
   "metadata": {},
   "source": [
    "Matrix multiplication has the following properties:\n",
    "\n",
    "* Associativity: $A(BC) = (AB)C$\n",
    "* Distributivity over matrix addition: $A(B + C) = AB + AC$ and $(A + B)C = AC + BC$\n",
    "* Associativity with scalar multiplication: $xAB = x(AB) = A(xB)$\n",
    "\n",
    "> Note that matrix multiplication is **not commutative:** $AB$ rarely equals $BA$.\n",
    "\n",
    "Another very important property of matrix multiplication is that a matrix multiplied by a vector produces another vector.\n",
    "\n",
    "An **identity matrix** $I_n$ is a special $n \\times n$ matrix which has $1$s on the main diagonal, and $0$s everywhere else:\n",
    "\n",
    "$$I_n =\n",
    "\\begin{bmatrix}\n",
    "    1 & 0 & \\dotsb & 0 \\\\\n",
    "    0 & 1 & \\dotsb & 0 \\\\\n",
    "    \\vdots & \\vdots & \\ddots & \\vdots \\\\\n",
    "    0 & 0 & \\dotsb & 1\n",
    "\\end{bmatrix}$$\n",
    "\n",
    "What makes it special is that multiplying any matrix (of compatible size) by $I_n$ returns the original matrix. To put it another way, if $A$ is an $n \\times m$ matrix:\n",
    "\n",
    "$$AI_m = I_nA = A$$\n",
    "\n",
    "This is why $I_n$ is called an identity matrix - it acts as a **multiplicative identity**. In other words, it is the matrix equivalent of the number $1$."
   ]
  },
  {
   "cell_type": "markdown",
   "metadata": {},
   "source": [
    "### <span style=\"color:blue\">Exercise 3</span>: Matrix multiplication.\n",
    "\n",
    "**Inputs:**\n",
    "\n",
    "1. An $n \\times m$ matrix $A$.\n",
    "2. An $m \\times k$ matrix $B$.\n",
    "\n",
    "**Output:** Return the $n \\times k$ matrix equal to the matrix product $AB$.\n",
    "\n",
    "<br/>\n",
    "<details>\n",
    "    <summary><strong>Need a hint? Click here</strong></summary>\n",
    "    To solve this exercise, you will need 3 <code>for</code> loops: one to go over $n$ rows of the output matrix, one to go over $k$ columns, and one to add up $m$ products that form each element of the output:\n",
    "    <pre>\n",
    "        <code>\n",
    "    for i in range(n):\n",
    "        for j in range(k):\n",
    "            sum = 0\n",
    "            for t in range(m):\n",
    "                sum = sum + ...\n",
    "            c[i][j] = sum\n",
    "        </code>\n",
    "    </pre>\n",
    "     A video explanation can be found <a href=\"https://www.youtube.com/watch?v=OMA2Mwo0aZg\">here</a>.\n",
    "</details>"
   ]
  },
  {
   "cell_type": "code",
   "execution_count": 4,
   "metadata": {},
   "outputs": [
    {
     "name": "stdout",
     "output_type": "stream",
     "text": [
      "Success!\n"
     ]
    }
   ],
   "source": [
    "@exercise\n",
    "def matrix_mult(a : Matrix, b : Matrix) -> Matrix:\n",
    "    rows = len(a)\n",
    "    cols = len(b[0])\n",
    "    c = create_empty_matrix(rows, cols)\n",
    "    \n",
    "    for i in range(rows):\n",
    "        for j in range(cols):\n",
    "            for t in range(len(a[0])):\n",
    "                c[i][j] += a[i][t]*b[t][j]\n",
    "    return c"
   ]
  },
  {
   "cell_type": "markdown",
   "metadata": {},
   "source": [
    "*Can't come up with a solution? See the explained solution in the [Linear Algebra Workbook](./Workbook_LinearAlgebra.ipynb#Exercise-3:-Matrix-multiplication.).*"
   ]
  },
  {
   "cell_type": "markdown",
   "metadata": {},
   "source": [
    "## Inverse Matrices\n",
    "\n",
    "A square $n \\times n$ matrix $A$ is **invertible** if it has an inverse $n \\times n$ matrix $A^{-1}$ with the following property:\n",
    "\n",
    "$$AA^{-1} = A^{-1}A = I_n$$\n",
    "\n",
    "In other words, $A^{-1}$ acts as the **multiplicative inverse** of $A$.\n",
    "\n",
    "Another, equivalent definition highlights what makes this an interesting property. For any matrices $B$ and $C$ of compatible sizes:\n",
    "\n",
    "$$A^{-1}(AB) = A(A^{-1}B) = B \\\\\n",
    "(CA)A^{-1} = (CA^{-1})A = C$$\n",
    "\n",
    "A square matrix has a property called the **determinant**, with the determinant of matrix $A$ being written as $|A|$. A matrix is invertible if and only if its determinant isn't equal to $0$.\n",
    "\n",
    "For a $2 \\times 2$ matrix $A$, the determinant is defined as $|A| = (A_{0,0} \\cdot A_{1,1}) - (A_{0,1} \\cdot A_{1,0})$.\n",
    "\n",
    "For larger matrices, the determinant is defined through determinants of sub-matrices. You can learn more from [Wikipedia](https://en.wikipedia.org/wiki/Determinant) or from [Wolfram MathWorld](http://mathworld.wolfram.com/Determinant.html)."
   ]
  },
  {
   "cell_type": "markdown",
   "metadata": {},
   "source": [
    "### <span style=\"color:blue\">Exercise 4</span>: Matrix Inversion.\n",
    "\n",
    "**Input:** An invertible $2 \\times 2$ matrix $A$.\n",
    "\n",
    "**Output:** Return the inverse of $A$, a $2 \\times 2$ matrix $A^{-1}$.\n",
    "\n",
    "<br/>\n",
    "<details>\n",
    "    <summary><strong>Need a hint? Click here</strong></summary>\n",
    "    Try to come up with a general method of doing it by hand first. If you get stuck, you may find <a href=\"https://en.wikipedia.org/wiki/Invertible_matrix#Inversion_of_2_%C3%97_2_matrices\">this Wikipedia article</a> useful. For this exercise, $|A|$ is guaranteed to be non-zero. <br>\n",
    "    A video explanation can be found <a href=\"https://www.youtube.com/watch?v=01c12NaUQDw\">here</a>.\n",
    "</details>"
   ]
  },
  {
   "cell_type": "code",
   "execution_count": 27,
   "metadata": {},
   "outputs": [
    {
     "name": "stdout",
     "output_type": "stream",
     "text": [
      "Success!\n"
     ]
    }
   ],
   "source": [
    "@exercise\n",
    "def matrix_inverse(a : Matrix) -> Matrix:\n",
    "    \n",
    "    c = create_empty_matrix(2,2)\n",
    "    \n",
    "    #check if the matrix is invertible\n",
    "    det = (a[0][0]*a[1][1])-(a[0][1]*a[1][0])\n",
    "    \n",
    "    if det != 0:\n",
    "        c[0][0] = a[1][1]\n",
    "        c[1][1] = a[0][0]\n",
    "        c[0][1] = -a[0][1]\n",
    "        c[1][0] = -a[1][0]\n",
    "    \n",
    "        return scalar_mult(det**-1, c)\n",
    "    else:\n",
    "        return None"
   ]
  },
  {
   "cell_type": "markdown",
   "metadata": {},
   "source": [
    "*Can't come up with a solution? See the explained solution in the [Linear Algebra Workbook](./Workbook_LinearAlgebra.ipynb#Exercise-4:-Matrix-Inversion.).*"
   ]
  },
  {
   "cell_type": "markdown",
   "metadata": {},
   "source": [
    "## Transpose\n",
    "\n",
    "The **transpose** operation, denoted as $A^T$, is essentially a reflection of the matrix across the diagonal: $(A^T)_{i,j} = A_{j,i}$.\n",
    "\n",
    "Given an $n \\times m$ matrix $A$, its transpose is the $m \\times n$ matrix $A^T$, such that if:\n",
    "\n",
    "$$A =\n",
    "\\begin{bmatrix}\n",
    "    x_{0,0} & x_{0,1} & \\dotsb & x_{0,m-1} \\\\\n",
    "    x_{1,0} & x_{1,1} & \\dotsb & x_{1,m-1} \\\\\n",
    "    \\vdots & \\vdots & \\ddots & \\vdots \\\\\n",
    "    x_{n-1,0} & x_{n-1,1} & \\dotsb & x_{n-1,m-1}\n",
    "\\end{bmatrix}$$\n",
    "\n",
    "then:\n",
    "\n",
    "$$A^T =\n",
    "\\begin{bmatrix}\n",
    "    x_{0,0} & x_{1,0} & \\dotsb & x_{n-1,0} \\\\\n",
    "    x_{0,1} & x_{1,1} & \\dotsb & x_{n-1,1} \\\\\n",
    "    \\vdots & \\vdots & \\ddots & \\vdots \\\\\n",
    "    x_{0,m-1} & x_{1,m-1} & \\dotsb & x_{n-1,m-1}\n",
    "\\end{bmatrix}$$\n",
    "\n",
    "For example:\n",
    "\n",
    "$$\\begin{bmatrix}\n",
    "    1 & 2 \\\\\n",
    "    3 & 4 \\\\\n",
    "    5 & 6\n",
    "\\end{bmatrix}^T\n",
    "=\n",
    "\\begin{bmatrix}\n",
    "    1 & 3 & 5 \\\\\n",
    "    2 & 4 & 6\n",
    "\\end{bmatrix}$$\n",
    "\n",
    "A **symmetric** matrix is a square matrix which equals its own transpose: $A = A^T$. To put it another way, it has reflection symmetry (hence the name) across the main diagonal. For example, the following matrix is symmetric:\n",
    "\n",
    "$$\\begin{bmatrix}\n",
    "    1 & 2 & 3 \\\\\n",
    "    2 & 4 & 5 \\\\\n",
    "    3 & 5 & 6\n",
    "\\end{bmatrix}$$\n",
    "\n",
    "The transpose of a matrix product is equal to the product of transposed matrices, taken in reverse order:\n",
    "\n",
    "$$(AB)^T = B^TA^T$$"
   ]
  },
  {
   "cell_type": "markdown",
   "metadata": {},
   "source": [
    "### <span style=\"color:blue\">Exercise 5</span>: Transpose.\n",
    "\n",
    "**Input:** An $n \\times m$ matrix $A$.\n",
    "\n",
    "**Output:** Return an $m \\times n$ matrix $A^T$, the transpose of $A$.\n",
    "\n",
    "<br/>\n",
    "<details>\n",
    "    <summary><b>Need a hint? Click here</b></summary>\n",
    "    A video explanation can be found <a href=\"https://www.youtube.com/watch?v=TZrKrNVhbjI\">here</a>.\n",
    "</details>"
   ]
  },
  {
   "cell_type": "code",
   "execution_count": 13,
   "metadata": {},
   "outputs": [
    {
     "name": "stdout",
     "output_type": "stream",
     "text": [
      "Success!\n"
     ]
    }
   ],
   "source": [
    "@exercise\n",
    "def transpose(a : Matrix) -> Matrix:\n",
    "    rows = len(a)\n",
    "    cols = len(a[0])\n",
    "    c = create_empty_matrix(cols, rows)\n",
    "    \n",
    "    for i in range(rows):\n",
    "        for j in range(cols):\n",
    "            c[j][i] = a[i][j]\n",
    "    return c"
   ]
  },
  {
   "cell_type": "markdown",
   "metadata": {},
   "source": [
    "*Can't come up with a solution? See the explained solution in the [Linear Algebra Workbook](./Workbook_LinearAlgebra.ipynb#Exercise-5:-Transpose.).*"
   ]
  },
  {
   "cell_type": "markdown",
   "metadata": {},
   "source": [
    "## Conjugate\n",
    "\n",
    "The next important single-matrix operation is the **matrix conjugate**, denoted as $\\overline{A}$. This, as the name might suggest, involves taking the [complex conjugate](../ComplexArithmetic/ComplexArithmetic.ipynb#Complex-Conjugate) of every element of the matrix: if\n",
    "\n",
    "$$A =\n",
    "\\begin{bmatrix}\n",
    "    x_{0,0} & x_{0,1} & \\dotsb & x_{0,m-1} \\\\\n",
    "    x_{1,0} & x_{1,1} & \\dotsb & x_{1,m-1} \\\\\n",
    "    \\vdots & \\vdots & \\ddots & \\vdots \\\\\n",
    "    x_{n-1,0} & x_{n-1,1} & \\dotsb & x_{n-1,m-1}\n",
    "\\end{bmatrix}$$\n",
    "\n",
    "Then:\n",
    "\n",
    "$$\\overline{A} =\n",
    "\\begin{bmatrix}\n",
    "    \\overline{x}_{0,0} & \\overline{x}_{0,1} & \\dotsb & \\overline{x}_{0,m-1} \\\\\n",
    "    \\overline{x}_{1,0} & \\overline{x}_{1,1} & \\dotsb & \\overline{x}_{1,m-1} \\\\\n",
    "    \\vdots & \\vdots & \\ddots & \\vdots \\\\\n",
    "    \\overline{x}_{n-1,0} & \\overline{x}_{n-1,1} & \\dotsb & \\overline{x}_{n-1,m-1}\n",
    "\\end{bmatrix}$$\n",
    "\n",
    "The conjugate of a matrix product equals to the product of conjugates of the matrices:\n",
    "\n",
    "$$\\overline{AB} = (\\overline{A})(\\overline{B})$$"
   ]
  },
  {
   "cell_type": "markdown",
   "metadata": {},
   "source": [
    "### <span style=\"color:blue\">Exercise 6</span>: Conjugate.\n",
    "\n",
    "**Input:** An $n \\times m$ matrix $A$.\n",
    "\n",
    "**Output:** Return an $n \\times m$ matrix $\\overline{A}$, the conjugate of $A$.\n",
    "\n",
    "> As a reminder, you can get the real and imaginary components of complex number `z` using `z.real` and `z.imag`, respectively.\n",
    "<details>\n",
    "    <summary><b>Need a hint? Click here</b></summary>\n",
    "    To calculate the conjugate of a matrix take the conjugate of each element, check the <a href=\"../ComplexArithmetic/ComplexArithmetic.ipynb#Exercise-4:-Complex-conjugate.\">complex arithmetic tutorial</a> to see how to calculate the conjugate of a complex number.\n",
    "</details>"
   ]
  },
  {
   "cell_type": "code",
   "execution_count": 21,
   "metadata": {},
   "outputs": [
    {
     "name": "stdout",
     "output_type": "stream",
     "text": [
      "Success!\n"
     ]
    }
   ],
   "source": [
    "@exercise\n",
    "def conjugate(a : Matrix) -> Matrix:\n",
    "    rows = len(a)\n",
    "    cols = len(a[0])\n",
    "    c = create_empty_matrix(rows, cols)\n",
    "    for i in range(rows):\n",
    "        for j in range(cols):\n",
    "            c[i][j] = complex(a[i][j].real, -1*a[i][j].imag) \n",
    "    return c"
   ]
  },
  {
   "cell_type": "markdown",
   "metadata": {},
   "source": [
    "*Can't come up with a solution? See the explained solution in the [Linear Algebra Workbook](./Workbook_LinearAlgebra.ipynb#Exercise-6:-Conjugate.).*"
   ]
  },
  {
   "cell_type": "markdown",
   "metadata": {},
   "source": [
    "## Adjoint\n",
    "\n",
    "The final important single-matrix operation is a combination of the above two. The **conjugate transpose**, also called the **adjoint** of matrix $A$, is defined as $A^\\dagger = \\overline{(A^T)} = (\\overline{A})^T$.\n",
    "\n",
    "A matrix is known as **Hermitian** or **self-adjoint** if it equals its own adjoint: $A = A^\\dagger$. For example, the following matrix is Hermitian:\n",
    "\n",
    "$$\\begin{bmatrix}\n",
    "    1 & i \\\\\n",
    "    -i & 2\n",
    "\\end{bmatrix}$$\n",
    "\n",
    "The adjoint of a matrix product can be calculated as follows:\n",
    "\n",
    "$$(AB)^\\dagger = B^\\dagger A^\\dagger$$"
   ]
  },
  {
   "cell_type": "markdown",
   "metadata": {},
   "source": [
    "### <span style=\"color:blue\">Exercise 7</span>: Adjoint.\n",
    "\n",
    "**Input:** An $n \\times m$ matrix $A$.\n",
    "\n",
    "**Output:** Return an $m \\times n$ matrix $A^\\dagger$, the adjoint of $A$.\n",
    "\n",
    "> Don't forget, you can re-use functions you've written previously."
   ]
  },
  {
   "cell_type": "code",
   "execution_count": 22,
   "metadata": {},
   "outputs": [
    {
     "name": "stdout",
     "output_type": "stream",
     "text": [
      "Success!\n"
     ]
    }
   ],
   "source": [
    "@exercise\n",
    "def adjoint(a : Matrix) -> Matrix:\n",
    "    aConjugate = conjugate(a)\n",
    "    aDagger = transpose(aConjugate)\n",
    "    return aDagger"
   ]
  },
  {
   "cell_type": "markdown",
   "metadata": {},
   "source": [
    "*Can't come up with a solution? See the explained solution in the [Linear Algebra Workbook](./Workbook_LinearAlgebra.ipynb#Exercise-7:-Adjoint.).*"
   ]
  },
  {
   "cell_type": "markdown",
   "metadata": {},
   "source": [
    "## Unitary Matrices\n",
    "\n",
    "**Unitary matrices** are very important for quantum computing. A matrix is unitary when it is invertible, and its inverse is equal to its adjoint: $U^{-1} = U^\\dagger$. That is, an $n \\times n$ square matrix $U$ is unitary if and only if $UU^\\dagger = U^\\dagger U = I_n$.\n",
    "\n",
    "For example, the following matrix is unitary:\n",
    "\n",
    "$$\\begin{bmatrix}\n",
    "    \\frac{1}{\\sqrt{2}} & \\frac{1}{\\sqrt{2}} \\\\\n",
    "    \\frac{i}{\\sqrt{2}} & \\frac{-i}{\\sqrt{2}} \\\\\n",
    "\\end{bmatrix}$$"
   ]
  },
  {
   "cell_type": "markdown",
   "metadata": {},
   "source": [
    "### <span style=\"color:blue\">Exercise 8</span>: Unitary Verification.\n",
    "\n",
    "**Input:** An $n \\times n$ matrix $A$.\n",
    "\n",
    "**Output:** Check if the matrix is unitary and return `True` if it is, or `False` if it isn't.\n",
    "\n",
    "> Because of inaccuracy when dealing with floating point numbers on a computer (rounding errors), you won't always get the exact result you are expecting from a long series of calculations. To get around this, Python has a function `approx` which can be used to check if two numbers are \"close enough:\" `a == approx(b)`.\n",
    "\n",
    "<br/>\n",
    "<details>\n",
    "    <summary><strong>Need a hint? Click here</strong></summary>\n",
    "    Keep in mind, you have only implemented matrix inverses for $2 \\times 2$ matrices, and this exercise may give you larger inputs. There is a way to solve this without taking the inverse.\n",
    "</details>"
   ]
  },
  {
   "cell_type": "code",
   "execution_count": 32,
   "metadata": {},
   "outputs": [
    {
     "name": "stdout",
     "output_type": "stream",
     "text": [
      "Success!\n"
     ]
    }
   ],
   "source": [
    "from pytest import approx\n",
    "\n",
    "@exercise\n",
    "def is_matrix_unitary(a : Matrix) -> bool:\n",
    "    \n",
    "    result = False\n",
    "    if matrix_inverse(a):\n",
    "        return matrix_inverse(a) == adjoint(a)\n",
    " \n",
    "    \n",
    "    return result"
   ]
  },
  {
   "cell_type": "code",
   "execution_count": 41,
   "metadata": {},
   "outputs": [
    {
     "name": "stdout",
     "output_type": "stream",
     "text": [
      "[[0, 0], [0, 0]]\n",
      "[[(0.7071067811865475+0j), (0.7071067811865475+0j)], [(0.7071067811865475+0j), (0.7071067811865475+0j)]]\n",
      "[[(-0.05603336494100478+0.906654530322153j), (-0.13576411596097057+0.378152953149878j)], [(-0.013426410519948681-0.4179205141653779j), (-0.34177408391352+0.8495639613392487j)]]\n",
      "[[(-0.2645493577113893+0.9881160338770814j), (-1.0908641140094852+1.5637118405298058j), (0.560290313886207-2.25202360102288j), (1.041784495372411-0.9396704147664199j)], [(1.5696963699471767-1.125850817822291j), (-0.5627531132413919+3.4226194943611725j), (-2.4530781717961734+1.4808200773157179j), (3.3815309335750183-1.6745118367799177j)], [(1.4843767348529855-1.3165297869985952j), (-1.6899199350549805+3.3355312201354135j), (2.805987041526922-1.1399360142495834j), (0.14371501954366672-0.7819561567355815j)], [(1.3687648586734091-0.277040060699311j), (-2.244114715217224-0.1355462501756599j), (-2.065907485103007+1.7866682448162612j), (0.27479872354729873+4.250974275923877j)]]\n",
      "[[(-0.0940414698132083+0.5611975693702268j), (-0.4191787603274153-0.5611212069693023j), (-0.43623815289724-0.003876233299980351j), (0.15973687985085763-0.4016585874691308j)], [(-0.602394347465402+0.09058566788329822j), (-0.38538299262927017+0.020538277940845298j), (-0.23932726075369581-0.569849814591472j), (0.25265440166001996+0.11171210831789723j)], [(0.10093155976468325+0.34176107043403064j), (0.5763949418326381-0.14674233330424116j), (-0.41273654639468293-0.13340582178565427j), (0.050213410879886136+0.7890249184660469j)], [(0.42178038565030873-0.01556516187262531j), (0.0799583513455305+0.01823476918687194j), (-0.09668294725826079-0.4797694629045769j), (0.18421422638785512-0.27896966987216126j)]]\n",
      "[[(-1.3901283565499332-2.011194370548851j), (-1.3708742028671883+1.1038392354497661j), (1.3839960651306225-0.5388338539527426j), (-2.382117880878287-2.058609563255499j)], [(0.14593373951761301-3.7932534621166036j), (-0.11142370854267503-2.625749077938573j), (-0.014264101217410396-1.4372921087548982j), (3.0461902622088726+4.6302655029917785j)], [(-3.7796757121195643-2.423013200567941j), (-0.7832791119627938+0.21764196008818437j), (4.144161708238874-1.6596129946880274j), (0.36317786919252837-3.169671879464011j)], [(-1.355198295067199+2.4577599028418797j), (-1.1225299030819116-0.5670085165932535j), (2.505090657231155-2.395171690583708j), (4.926911340454016+1.1842234906078717j)]]\n",
      "[[(-0.1450710779455315-0.2014948507916025j), (0.2301479610362467-0.1415638847909446j), (0.33489684452549634-0.35709661965178846j), (-0.26717163187189136+0.5606578377696199j), (0.6447196823667527+0.5172393266596625j)], [(0.14362343415214315+0.5008300446615799j), (-0.5295022454116409+0.15043370936292705j), (0.37533051912713905+0.3038227045582737j), (0.0752680568949591+0.14451476547643866j), (0.0825762017719779-0.26399644736774047j)], [(0.07363884347969786-0.15987011357391617j), (0.40524472381462084+0.032527985824528045j), (0.08280408927582882+0.2693420455483748j), (0.43634759443807675+0.5503209108572844j), (0.053685781103453276-0.0858688894623006j)], [(-0.748011263298956+0.24530849514589959j), (0.0029338044739414936-0.2819897669042524j), (0.055905603633568585-0.20247539906271278j), (0.06629782278194885-0.002525134699395569j), (0.019579147605185514+0.3827938792703192j)], [(-0.0491070643850656+0.11749910172544772j), (-0.5817094113015358+0.20197678742746908j), (0.12797073100433715+0.6222901147606111j), (-0.29271859529094785-0.06628746866702978j), (-0.23239565482631624+0.17061415569525157j)]]\n",
      "[[(0.021626899095948948-0.8439561865667589j), (-3.244928201774573-1.9881349988069537j)], [(0.7124318059603159-1.1455606520268413j), (0.5678549387188008-2.2641955915891954j)]]\n",
      "[[(0.11717420770348604-0.017774436918410123j), (-0.04853466473776262+0.20637907757210958j), (-0.3971812528714576+0.13646522484406723j), (0.24998803408418352-0.19407730684705118j)], [(0.17653053924829729-0.027534658220348795j), (0.385793742782182-0.334907051595815j), (0.19032828482208047+0.12586051494393877j), (0.5265814351364088-0.07038354798643516j)], [(-0.9670532187639225+0.059633832170717806j), (0.12032850483861399-0.3084145536670839j), (-0.022596215900409836-0.7948732479512947j), (0.47264337770394027-0.2680799508459107j)], [(0.03198517846446098+0.11942324835749554j), (-0.3827951251100799+0.6617566952304959j), (-0.14300400120954343-0.3446365562543408j), (0.23473836938533651-0.5169500996514268j)]]\n",
      "[[(-1.724941101496091-2.2132496527754046j), (2.342593783917554+0.6261511319792787j), (-3.306922735037384+3.477686094414226j)], [(2.882538009280341+0.6304000565861605j), (-0.4928963491648055-0.8883606124431656j), (-2.253538087501128+4.230381015032947j)], [(-1.2219312949218146+0.25731567752497486j), (0.9466245735780388-0.48396646388319364j), (-0.0736904067098958+0.019634656803105943j)]]\n",
      "[[(-0.09512892142918886+0.9325049051461076j), (-0.20555259231086442-0.2689887640445944j), (0.44388469600967395+0.1717561097455018j)], [(0.2833736665032341-0.0007189757165940873j), (0.5080679050331852+0.018485123506053282j), (-0.49583090134513275-0.17791315547284328j)], [(-0.040914965443800126-0.19851927864903582j), (0.5636909477485267-0.5560314704426084j), (-0.1502418854483875-0.6880350410054514j)]]\n",
      "[[(0.8548210985159959+4.941647796135839j), (-0.2826908312575982+0.6528001612410637j), (-0.7071016994852406-0.4914834764685232j), (-0.9747796634181605+0.7356541011203819j)], [(-0.2732673794030376+2.8861897826691454j), (0.1384301322746091-0.17032512565726055j), (2.8848456628285533-2.940187844042483j), (-0.6191375873816762-0.8270991026477281j)], [(-0.2169763306432515-0.9789220817892463j), (-3.9265193165915546+0.49413107117072286j), (0.40075707810496486+2.8286055892992024j), (-1.8079563824286464+0.8827013674288553j)], [(0.5836104930032022-2.531172925908007j), (-1.030492008918706+0.6573338509646558j), (2.1387629989265884+1.4605988566182666j), (-0.7897048852575304+0.4545997843793592j)]]\n",
      "Success!\n"
     ]
    }
   ],
   "source": [
    "from pytest import approx\n",
    "\n",
    "@exercise\n",
    "def is_matrix_unitary(a : Matrix) -> bool:\n",
    "    print(a)\n",
    "    \n",
    "    if matrix_inverse(a):\n",
    "        return matrix_inverse(a) == adjoint(a)\n",
    " \n",
    "    \n",
    "    return False"
   ]
  },
  {
   "cell_type": "markdown",
   "metadata": {},
   "source": [
    "*Can't come up with a solution? See the explained solution in the [Linear Algebra Workbook](./Workbook_LinearAlgebra.ipynb#Exercise-8:-Unitary-Verification.).*"
   ]
  },
  {
   "cell_type": "markdown",
   "metadata": {},
   "source": [
    "## Next Steps\n",
    "\n",
    "Congratulations! At this point, you should understand enough linear algebra to be able to get started with the tutorials on [the concept of qubit](../Qubit/Qubit.ipynb) and on [single-qubit quantum gates](../SingleQubitGates/SingleQubitGates.ipynb). The next section covers more advanced matrix operations that help explain the properties of qubits and quantum gates."
   ]
  },
  {
   "cell_type": "markdown",
   "metadata": {},
   "source": [
    "# Part II. Advanced Operations\n",
    "\n",
    "## Inner Product\n",
    "\n",
    "The **inner product** is yet another important matrix operation that is only applied to vectors. Given two vectors $V$ and $W$ of the same size, their inner product $\\langle V , W \\rangle$ is defined as a product of matrices $V^\\dagger$ and $W$:\n",
    "\n",
    "$$\\langle V , W \\rangle = V^\\dagger W$$\n",
    "\n",
    "Let's break this down so it's a bit easier to understand. A $1 \\times n$ matrix (the adjoint of an $n \\times 1$ vector) multiplied by an $n \\times 1$ vector results in a $1 \\times 1$ matrix (which is equivalent to a scalar). The result of an inner product is that scalar. \n",
    "\n",
    "To put it another way, to calculate the inner product of two vectors, take the corresponding elements $V_k$ and $W_k$, multiply the complex conjugate of $V_k$ by $W_k$, and add up those products:\n",
    "\n",
    "$$\\langle V , W \\rangle = \\sum_{k=0}^{n-1}\\overline{V_k}W_k$$\n",
    "\n",
    "Here is a simple example:\n",
    "\n",
    "$$\\langle\n",
    "\\begin{bmatrix}\n",
    "    -6 \\\\\n",
    "    9i\n",
    "\\end{bmatrix}\n",
    ",\n",
    "\\begin{bmatrix}\n",
    "    3 \\\\\n",
    "    -8\n",
    "\\end{bmatrix}\n",
    "\\rangle =\n",
    "\\begin{bmatrix}\n",
    "    -6 \\\\\n",
    "    9i\n",
    "\\end{bmatrix}^\\dagger\n",
    "\\begin{bmatrix}\n",
    "    3 \\\\\n",
    "    -8\n",
    "\\end{bmatrix}\n",
    "=\n",
    "\\begin{bmatrix} -6 & -9i \\end{bmatrix}\n",
    "\\begin{bmatrix}\n",
    "    3 \\\\\n",
    "    -8\n",
    "\\end{bmatrix}\n",
    "= (-6) \\cdot (3) + (-9i) \\cdot (-8) = -18 + 72i$$"
   ]
  },
  {
   "cell_type": "markdown",
   "metadata": {},
   "source": [
    "If you are familiar with the **dot product**, you will notice that it is equivalent to inner product for real-numbered vectors.\n",
    "\n",
    "> We use our definition for these tutorials because it matches the notation used in quantum computing. You might encounter other sources which define the inner product a little differently: $\\langle V , W \\rangle = W^\\dagger V = V^T\\overline{W}$, in contrast to the $V^\\dagger W$ that we use. These definitions are almost equivalent, with some differences in the scalar multiplication by a complex number.\n",
    "\n",
    "An immediate application for the inner product is computing the **vector norm**. The norm of vector $V$ is defined as $||V|| = \\sqrt{\\langle V , V \\rangle}$. This condenses the vector down to a single non-negative real value. If the vector represents coordinates in space, the norm happens to be the length of the vector. A vector is called **normalized** if its norm is equal to $1$.\n",
    "\n",
    "The inner product has the following properties:\n",
    "\n",
    "* Distributivity over addition: $\\langle V + W , X \\rangle = \\langle V , X \\rangle + \\langle W , X \\rangle$ and $\\langle V , W + X \\rangle = \\langle V , W \\rangle + \\langle V , X \\rangle$\n",
    "* Partial associativity with scalar multiplication: $x \\cdot \\langle V , W \\rangle = \\langle \\overline{x}V , W \\rangle = \\langle V , xW \\rangle$\n",
    "* Skew symmetry: $\\langle V , W \\rangle = \\overline{\\langle W , V \\rangle}$\n",
    "* Multiplying a vector by a unitary matrix **preserves the vector's inner product with itself** (and therefore the vector's norm): $\\langle UV , UV \\rangle = \\langle V , V \\rangle$\n",
    "\n",
    "> Note that just like matrix multiplication, the inner product is **not commutative**: $\\langle V , W \\rangle$ won't always equal $\\langle W , V \\rangle$."
   ]
  },
  {
   "cell_type": "markdown",
   "metadata": {},
   "source": [
    "### <span style=\"color:blue\">Exercise 9</span>: Inner product.\n",
    "\n",
    "**Inputs:**\n",
    "\n",
    "1. An $n \\times 1$ vector $V$.\n",
    "2. An $n \\times 1$ vector $W$.\n",
    "\n",
    "**Output:** Return a complex number - the inner product $\\langle V , W \\rangle$.\n",
    "\n",
    "<br/>\n",
    "<details>\n",
    "    <summary><b>Need a hint? Click here</b></summary>\n",
    "    A video explanation can be found <a href=\"https://www.youtube.com/watch?v=FCmH4MqbFGs\">here</a>.\n",
    "</details>"
   ]
  },
  {
   "cell_type": "code",
   "execution_count": 48,
   "metadata": {},
   "outputs": [
    {
     "name": "stdout",
     "output_type": "stream",
     "text": [
      "Success!\n"
     ]
    }
   ],
   "source": [
    "@exercise\n",
    "def inner_prod(v : Matrix, w : Matrix) -> complex:\n",
    "    vDagger = adjoint(v)\n",
    "    return matrix_mult(vDagger, w)[0][0]"
   ]
  },
  {
   "cell_type": "markdown",
   "metadata": {},
   "source": [
    "*Can't come up with a solution? See the explained solution in the [Linear Algebra Workbook](./Workbook_LinearAlgebra.ipynb#Exercise-9:-Inner-product.).*"
   ]
  },
  {
   "cell_type": "markdown",
   "metadata": {},
   "source": [
    "### <span style=\"color:blue\">Exercise 10</span>: Normalized vectors.\n",
    "\n",
    "**Input:** A non-zero $n \\times 1$ vector $V$.\n",
    "\n",
    "**Output:** Return an $n \\times 1$ vector $\\frac{V}{||V||}$ - the normalized version of the vector $V$.\n",
    "\n",
    "<br/>\n",
    "<details>\n",
    "    <summary><strong>Need a hint? Click here</strong></summary>\n",
    "    You might need the square root function to solve this exercise. As a reminder, <a href=https://docs.python.org/3/library/math.html#math.sqrt>Python's square root function</a> is available in the <code>math</code> library.<br>\n",
    "    A video explanation can be found <a href=\"https://www.youtube.com/watch?v=7fn03DIW3Ak\">here</a>. Note that when this method is used with complex vectors, you should take the modulus of the complex number for the division.\n",
    "</details>"
   ]
  },
  {
   "cell_type": "code",
   "execution_count": 52,
   "metadata": {},
   "outputs": [
    {
     "name": "stdout",
     "output_type": "stream",
     "text": [
      "Success!\n"
     ]
    }
   ],
   "source": [
    "@exercise\n",
    "def normalize(v : Matrix) -> Matrix:\n",
    "    norm = inner_prod(v, v)**-.5\n",
    "    return scalar_mult(norm, v)"
   ]
  },
  {
   "cell_type": "markdown",
   "metadata": {},
   "source": [
    "*Can't come up with a solution? See the explained solution in the [Linear Algebra Workbook](./Workbook_LinearAlgebra.ipynb#Exercise-10:-Normalized-vectors.).*"
   ]
  },
  {
   "cell_type": "markdown",
   "metadata": {},
   "source": [
    "## Outer Product\n",
    "\n",
    "The **outer product** of two vectors $V$ and $W$ is defined as $VW^\\dagger$. That is, the outer product of an $n \\times 1$ vector and an $m \\times 1$ vector is an $n \\times m$ matrix. If we denote the outer product of $V$ and $W$ as $X$, then $X_{i,j} = V_i \\cdot \\overline{W_j}$. \n",
    "\n",
    "Here is a simple example:\n",
    "outer product of $\\begin{bmatrix} -3i \\\\ 9 \\end{bmatrix}$ and $\\begin{bmatrix} 9i \\\\ 2 \\\\ 7 \\end{bmatrix}$ is:\n",
    "\n",
    "$$\\begin{bmatrix} \\color{blue} {-3i} \\\\ \\color{blue} 9 \\end{bmatrix}\n",
    "\\begin{bmatrix} \\color{red} {9i} \\\\ \\color{red} 2 \\\\ \\color{red} 7 \\end{bmatrix}^\\dagger\n",
    "=\n",
    "\\begin{bmatrix} \\color{blue} {-3i} \\\\ \\color{blue} 9 \\end{bmatrix}\n",
    "\\begin{bmatrix} \\color{red} {-9i} & \\color{red} 2 & \\color{red} 7 \\end{bmatrix}\n",
    "=\n",
    "\\begin{bmatrix}\n",
    "    \\color{blue} {-3i} \\cdot \\color{red} {(-9i)} & \\color{blue} {-3i} \\cdot \\color{red} 2 & \\color{blue} {-3i} \\cdot \\color{red} 7 \\\\\n",
    "    \\color{blue} 9 \\cdot \\color{red} {(-9i)} & \\color{blue} 9 \\cdot \\color{red} 2 & \\color{blue} 9 \\cdot \\color{red} 7\n",
    "\\end{bmatrix}\n",
    "=\n",
    "\\begin{bmatrix}\n",
    "    -27 & -6i & -21i \\\\\n",
    "    -81i & 18 & 63\n",
    "\\end{bmatrix}$$"
   ]
  },
  {
   "cell_type": "markdown",
   "metadata": {},
   "source": [
    "### <span style=\"color:blue\">Exercise 11</span>: Outer product.\n",
    "\n",
    "**Inputs:**\n",
    "\n",
    "1. An $n \\times 1$ vector $V$.\n",
    "2. An $m \\times 1$ vector $W$.\n",
    "\n",
    "**Output:** Return an $n \\times m$ matrix that represents the outer product of $V$ and $W$."
   ]
  },
  {
   "cell_type": "code",
   "execution_count": 55,
   "metadata": {},
   "outputs": [
    {
     "name": "stdout",
     "output_type": "stream",
     "text": [
      "Success!\n"
     ]
    }
   ],
   "source": [
    "@exercise\n",
    "def outer_prod(v : Matrix, w : Matrix) -> Matrix:\n",
    "    wDagger = adjoint(w)\n",
    "    return matrix_mult(v, wDagger)"
   ]
  },
  {
   "cell_type": "markdown",
   "metadata": {},
   "source": [
    "*Can't come up with a solution? See the explained solution in the [Linear Algebra Workbook](./Workbook_LinearAlgebra.ipynb#Exercise-11:-Outer-product.).*"
   ]
  },
  {
   "cell_type": "markdown",
   "metadata": {},
   "source": [
    "## Tensor Product\n",
    "\n",
    "The **tensor product** is a different way of multiplying matrices. Rather than multiplying rows by columns, the tensor product multiplies the second matrix by every element of the first matrix.\n",
    "\n",
    "Given $n \\times m$ matrix $A$ and $k \\times l$ matrix $B$, their tensor product $A \\otimes B$ is an $(n \\cdot k) \\times (m \\cdot l)$ matrix defined as follows:\n",
    "\n",
    "$$A \\otimes B =\n",
    "\\begin{bmatrix}\n",
    "    A_{0,0} \\cdot B & A_{0,1} \\cdot B & \\dotsb & A_{0,m-1} \\cdot B \\\\\n",
    "    A_{1,0} \\cdot B & A_{1,1} \\cdot B & \\dotsb & A_{1,m-1} \\cdot B \\\\\n",
    "    \\vdots & \\vdots & \\ddots & \\vdots \\\\\n",
    "    A_{n-1,0} \\cdot B & A_{n-1,1} \\cdot B & \\dotsb & A_{n-1,m-1} \\cdot B\n",
    "\\end{bmatrix}\n",
    "=\n",
    "\\begin{bmatrix}\n",
    "    A_{0,0} \\cdot \\color{red} {\\begin{bmatrix}B_{0,0} & \\dotsb & B_{0,l-1} \\\\ \\vdots & \\ddots & \\vdots \\\\ B_{k-1,0} & \\dotsb & b_{k-1,l-1} \\end{bmatrix}} & \\dotsb &\n",
    "    A_{0,m-1} \\cdot \\color{blue} {\\begin{bmatrix}B_{0,0} & \\dotsb & B_{0,l-1} \\\\ \\vdots & \\ddots & \\vdots \\\\ B_{k-1,0} & \\dotsb & B_{k-1,l-1} \\end{bmatrix}} \\\\\n",
    "    \\vdots & \\ddots & \\vdots \\\\\n",
    "    A_{n-1,0} \\cdot \\color{blue} {\\begin{bmatrix}B_{0,0} & \\dotsb & B_{0,l-1} \\\\ \\vdots & \\ddots & \\vdots \\\\ B_{k-1,0} & \\dotsb & B_{k-1,l-1} \\end{bmatrix}} & \\dotsb &\n",
    "    A_{n-1,m-1} \\cdot \\color{red} {\\begin{bmatrix}B_{0,0} & \\dotsb & B_{0,l-1} \\\\ \\vdots & \\ddots & \\vdots \\\\ B_{k-1,0} & \\dotsb & B_{k-1,l-1} \\end{bmatrix}}\n",
    "\\end{bmatrix}\n",
    "= \\\\\n",
    "=\n",
    "\\begin{bmatrix}\n",
    "    A_{0,0} \\cdot \\color{red} {B_{0,0}} & \\dotsb & A_{0,0} \\cdot \\color{red} {B_{0,l-1}} & \\dotsb & A_{0,m-1} \\cdot \\color{blue} {B_{0,0}} & \\dotsb & A_{0,m-1} \\cdot \\color{blue} {B_{0,l-1}} \\\\\n",
    "    \\vdots & \\ddots & \\vdots & \\dotsb & \\vdots & \\ddots & \\vdots \\\\\n",
    "    A_{0,0} \\cdot \\color{red} {B_{k-1,0}} & \\dotsb & A_{0,0} \\cdot \\color{red} {B_{k-1,l-1}} & \\dotsb & A_{0,m-1} \\cdot \\color{blue} {B_{k-1,0}} & \\dotsb & A_{0,m-1} \\cdot \\color{blue} {B_{k-1,l-1}} \\\\\n",
    "    \\vdots & \\vdots & \\vdots & \\ddots & \\vdots & \\vdots & \\vdots \\\\\n",
    "    A_{n-1,0} \\cdot \\color{blue} {B_{0,0}} & \\dotsb & A_{n-1,0} \\cdot \\color{blue} {B_{0,l-1}} & \\dotsb & A_{n-1,m-1} \\cdot \\color{red} {B_{0,0}} & \\dotsb & A_{n-1,m-1} \\cdot \\color{red} {B_{0,l-1}} \\\\\n",
    "    \\vdots & \\ddots & \\vdots & \\dotsb & \\vdots & \\ddots & \\vdots \\\\\n",
    "    A_{n-1,0} \\cdot \\color{blue} {B_{k-1,0}} & \\dotsb & A_{n-1,0} \\cdot \\color{blue} {B_{k-1,l-1}} & \\dotsb & A_{n-1,m-1} \\cdot \\color{red} {B_{k-1,0}} & \\dotsb & A_{n-1,m-1} \\cdot \\color{red} {B_{k-1,l-1}}\n",
    "\\end{bmatrix}$$\n",
    "\n",
    "Here is a simple example:\n",
    "\n",
    "$$\\begin{bmatrix} 1 & 2 \\\\ 3 & 4 \\end{bmatrix} \\otimes \\begin{bmatrix} 5 & 6 \\\\ 7 & 8 \\end{bmatrix} =\n",
    "\\begin{bmatrix}\n",
    "    1 \\cdot \\begin{bmatrix} 5 & 6 \\\\ 7 & 8 \\end{bmatrix} & 2 \\cdot \\begin{bmatrix} 5 & 6 \\\\ 7 & 8 \\end{bmatrix} \\\\\n",
    "    3 \\cdot \\begin{bmatrix} 5 & 6 \\\\ 7 & 8 \\end{bmatrix} & 4 \\cdot \\begin{bmatrix} 5 & 6 \\\\ 7 & 8 \\end{bmatrix}\n",
    "\\end{bmatrix}\n",
    "=\n",
    "\\begin{bmatrix}\n",
    "    1 \\cdot 5 & 1 \\cdot 6 & 2 \\cdot 5 & 2 \\cdot 6 \\\\\n",
    "    1 \\cdot 7 & 1 \\cdot 8 & 2 \\cdot 7 & 2 \\cdot 8 \\\\\n",
    "    3 \\cdot 5 & 3 \\cdot 6 & 4 \\cdot 5 & 4 \\cdot 6 \\\\\n",
    "    3 \\cdot 7 & 3 \\cdot 8 & 4 \\cdot 7 & 4 \\cdot 8\n",
    "\\end{bmatrix}\n",
    "=\n",
    "\\begin{bmatrix}\n",
    "    5 & 6 & 10 & 12 \\\\\n",
    "    7 & 8 & 14 & 16 \\\\\n",
    "    15 & 18 & 20 & 24 \\\\\n",
    "    21 & 24 & 28 & 32\n",
    "\\end{bmatrix}$$\n",
    "\n",
    "Notice that the tensor product of two vectors is another vector: if $V$ is an $n \\times 1$ vector, and $W$ is an $m \\times 1$ vector, $V \\otimes W$ is an $(n \\cdot m) \\times 1$ vector."
   ]
  },
  {
   "cell_type": "markdown",
   "metadata": {},
   "source": [
    "The tensor product has the following properties:\n",
    "\n",
    "* Distributivity over addition: $(A + B) \\otimes C = A \\otimes C + B \\otimes C$, $A \\otimes (B + C) = A \\otimes B + A \\otimes C$\n",
    "* Associativity with scalar multiplication: $x(A \\otimes B) = (xA) \\otimes B = A \\otimes (xB)$\n",
    "* Mixed-product property (relation with matrix multiplication): $(A \\otimes B) (C \\otimes D) = (AC) \\otimes (BD)$"
   ]
  },
  {
   "cell_type": "markdown",
   "metadata": {},
   "source": [
    "### <span style=\"color:blue\">Exercise 12</span>*: Tensor Product.\n",
    "\n",
    "**Inputs:**\n",
    "\n",
    "1. An $n \\times m$ matrix $A$.\n",
    "2. A $k \\times l$ matrix $B$.\n",
    "\n",
    "**Output:** Return an $(n \\cdot k) \\times (m \\cdot l)$ matrix $A \\otimes B$, the tensor product of $A$ and $B$."
   ]
  },
  {
   "cell_type": "code",
   "execution_count": 60,
   "metadata": {},
   "outputs": [
    {
     "name": "stdout",
     "output_type": "stream",
     "text": [
      "Success!\n"
     ]
    }
   ],
   "source": [
    "@exercise\n",
    "def tensor_product(a : Matrix, b : Matrix) -> Matrix:\n",
    "    aRows = len(a)       # the number of rows for matrix a\n",
    "    aColumns = len(a[0]) # the number of columns for matrix a\n",
    "    bRows = len(b)       # the number of rows for matrix b\n",
    "    bColumns = len(b[0]) # the number of columns for matrix b\n",
    "    \n",
    "    ans = create_empty_matrix(aRows * bRows, aColumns *  bColumns)\n",
    "    \n",
    "    # Outer pair of loops, iterating trough the elements of the left matrix\n",
    "    for i in range(aRows):\n",
    "        for j in range(aColumns):\n",
    "            # Inner pair of loops, iterating through the elements of the right matrix\n",
    "            for k in range(bRows):\n",
    "                for l in range(bColumns):\n",
    "                    ans[i * bRows + k][j * bColumns + l] = a[i][j] * b[k][l]\n",
    "    \n",
    "    return ans    "
   ]
  },
  {
   "cell_type": "markdown",
   "metadata": {},
   "source": [
    "*Can't come up with a solution? See the explained solution in the* <i><a href=\"./Workbook_LinearAlgebra.ipynb#Exercise-12*:-Tensor-Product.\">Linear Algebra Workbook</a></i>."
   ]
  },
  {
   "cell_type": "markdown",
   "metadata": {},
   "source": [
    "## Next Steps\n",
    "\n",
    "At this point, you know enough to complete the tutorials on [the concept of qubit](../Qubit/Qubit.ipynb), [single-qubit gates](../SingleQubitGates/SingleQubitGates.ipynb), [multi-qubit systems](../MultiQubitSystems/MultiQubitSystems.ipynb), and [multi-qubit gates](../MultiQubitGates/MultiQubitGates.ipynb). \n",
    "The last part of this tutorial is a brief introduction to eigenvalues and eigenvectors, which are used for more advanced topics in quantum computing. \n",
    "Feel free to move on to the next tutorials, and come back here once you encounter eigenvalues and eigenvectors elsewhere."
   ]
  },
  {
   "cell_type": "markdown",
   "metadata": {},
   "source": [
    "# Part III: Eigenvalues and Eigenvectors\n",
    "\n",
    "Consider the following example of multiplying a matrix by a vector:\n",
    "\n",
    "$$\\begin{bmatrix}\n",
    "    1 & -3 & 3 \\\\\n",
    "    3 & -5 & 3 \\\\\n",
    "    6 & -6 & 4\n",
    "\\end{bmatrix}\n",
    "\\begin{bmatrix}\n",
    "    1 \\\\\n",
    "    1 \\\\\n",
    "    2\n",
    "\\end{bmatrix}\n",
    "=\n",
    "\\begin{bmatrix}\n",
    "    4 \\\\\n",
    "    4 \\\\\n",
    "    8\n",
    "\\end{bmatrix}$$\n",
    "\n",
    "Notice that the resulting vector is just the initial vector multiplied by a scalar (in this case 4). This behavior is so noteworthy that it is described using a special set of terms.\n",
    "\n",
    "Given a nonzero $n \\times n$ matrix $A$, a nonzero vector $V$, and a scalar $x$, if $AV = xV$, then $x$ is an **eigenvalue** of $A$, and $V$ is an **eigenvector** of $A$ corresponding to that eigenvalue.\n",
    "\n",
    "The properties of eigenvalues and eigenvectors are used extensively in quantum computing. You can learn more about eigenvalues, eigenvectors, and their properties at [Wolfram MathWorld](http://mathworld.wolfram.com/Eigenvector.html) or on [Wikipedia](https://en.wikipedia.org/wiki/Eigenvalues_and_eigenvectors)."
   ]
  },
  {
   "cell_type": "markdown",
   "metadata": {},
   "source": [
    "### <span style=\"color:blue\">Exercise 13</span>: Finding an eigenvalue.\n",
    "\n",
    "**Inputs:**\n",
    "\n",
    "1. An $n \\times n$ matrix $A$.\n",
    "2. An eigenvector $V$ of matrix $A$.\n",
    "\n",
    "**Output:** Return a real number - the eigenvalue of $A$ that is associated with the given eigenvector.\n",
    "\n",
    "> Note that in this task the matrices are real-valued.\n",
    "\n",
    "<br/>\n",
    "<details>\n",
    "    <summary><strong>Need a hint? Click here</strong></summary>\n",
    "    Multiply the matrix by the vector, then divide the elements of the result by the elements of the original vector. Don't forget though, some elements of the vector may be $0$.\n",
    "</details>"
   ]
  },
  {
   "cell_type": "code",
   "execution_count": 81,
   "metadata": {},
   "outputs": [
    {
     "name": "stdout",
     "output_type": "stream",
     "text": [
      "Success!\n"
     ]
    }
   ],
   "source": [
    "@exercise\n",
    "def find_eigenvalue(a : Matrix, v : Matrix) -> float:\n",
    "    rows = len(v)\n",
    "    xv = matrix_mult(a, v)\n",
    "    \n",
    "    for i in range(rows):\n",
    "        if v[i][0] != approx(0):\n",
    "            return xv[i][0]/v[i][0]\n"
   ]
  },
  {
   "cell_type": "markdown",
   "metadata": {},
   "source": [
    "*Can't come up with a solution? See the explained solution in the [Linear Algebra Workbook](./Workbook_LinearAlgebra.ipynb#Exercise-13:-Finding-an-eigenvalue.).*"
   ]
  },
  {
   "cell_type": "markdown",
   "metadata": {},
   "source": [
    "### <span style=\"color:blue\">Exercise 14</span>**: Finding an eigenvector.\n",
    "\n",
    "**Inputs:**\n",
    "\n",
    "1. A $2 \\times 2$ matrix $A$.\n",
    "2. An eigenvalue $x$ of matrix $A$.\n",
    "\n",
    "\n",
    "**Output:** Return any non-zero eigenvector of $A$ that is associated with $x$.\n",
    "\n",
    "<br/>\n",
    "<details>\n",
    "    <summary><strong>Need a hint? Click here</strong></summary>\n",
    "    A matrix and an eigenvalue will have multiple eigenvectors (infinitely many, in fact), but you only need to find one.<br/>\n",
    "    Try treating the elements of the vector as variables in a system of two equations. Watch out for division by $0$! \n",
    "</details>"
   ]
  },
  {
   "cell_type": "code",
   "execution_count": 82,
   "metadata": {},
   "outputs": [
    {
     "name": "stdout",
     "output_type": "stream",
     "text": [
      "Success!\n"
     ]
    }
   ],
   "source": [
    "@exercise\n",
    "def find_eigenvector(a : Matrix, x : float) -> Matrix:\n",
    "    # Check for possible edge cases\n",
    "    if (a[0][1] == 0):\n",
    "        if (a[0][0] - x == 0):\n",
    "            if (a[1][0] == 0):\n",
    "                return [[1], [0]]\n",
    "            else:\n",
    "                return [[(a[1][1] - x) / (-a[1][0])], [1]]\n",
    "        else:\n",
    "            return [[0], [1]]\n",
    "    \n",
    "    v0 = 1\n",
    "    v1 = (a[0][0] - x) / (-a[0][1])\n",
    "    return [[v0], [v1]]"
   ]
  },
  {
   "cell_type": "markdown",
   "metadata": {},
   "source": [
    "*Can't come up with a solution? See the explained solution in the [Linear Algebra Workbook](./Workbook_LinearAlgebra.ipynb#Exercise-14**:-Finding-an-eigenvector.).*"
   ]
  }
 ],
 "metadata": {
  "kernelspec": {
   "display_name": "Python 3",
   "language": "python",
   "name": "python3"
  },
  "language_info": {
   "codemirror_mode": {
    "name": "ipython",
    "version": 3
   },
   "file_extension": ".py",
   "mimetype": "text/x-python",
   "name": "python",
   "nbconvert_exporter": "python",
   "pygments_lexer": "ipython3",
   "version": "3.6.4"
  }
 },
 "nbformat": 4,
 "nbformat_minor": 2
}
