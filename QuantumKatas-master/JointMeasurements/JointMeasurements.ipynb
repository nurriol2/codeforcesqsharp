{
 "cells": [
  {
   "cell_type": "markdown",
   "metadata": {},
   "source": [
    "# Joint Measurements Kata\n",
    "\n",
    "**Joint Measurements** quantum kata is a series of exercises designed to get you familiar with programming in Q#. It covers the joint parity measurements and using them for distinguishing quantum states or for performing multi-qubit gates.\n",
    "\n",
    "* In Q# joint measurements are implemented as the [Measure](https://docs.microsoft.com/qsharp/api/qsharp/microsoft.quantum.intrinsic.measure) operation.\n",
    "* You can read more about measurements of multi-qubit Pauli operators in the [Q# documentation](https://docs.microsoft.com/quantum/concepts/pauli-measurements).\n",
    "\n",
    "Each task is wrapped in one operation preceded by the description of the task.  Your goal is to fill in the blank (marked with `// ...` comments)\n",
    "with some Q# code that solves the task. To verify your answer, run the cell using Ctrl/⌘+Enter.\n",
    "\n",
    "The tasks are given in approximate order of increasing difficulty; harder ones are marked with asterisks."
   ]
  },
  {
   "cell_type": "markdown",
   "metadata": {},
   "source": [
    "To begin, first prepare this notebook for execution (if you skip this step, you'll get \"Syntax does not match any known patterns\" error when you try to execute Q# code in the next cells):"
   ]
  },
  {
   "cell_type": "code",
   "execution_count": 1,
   "metadata": {},
   "outputs": [
    {
     "data": {
      "application/json": "{\"LastUpdated\":\"2020-06-10T00:00:41.938221-05:00\",\"IsCompleted\":true,\"Description\":\"Adding package Microsoft.Quantum.Katas::0.11.2004.2825\",\"Subtask\":\"done\"}",
      "text/plain": [
       "Adding package Microsoft.Quantum.Katas::0.11.2004.2825: done!"
      ]
     },
     "metadata": {},
     "output_type": "display_data"
    },
    {
     "data": {
      "application/json": "[\"Microsoft.Quantum.Standard::0.11.2004.2825\",\"Microsoft.Quantum.Katas::0.11.2004.2825\"]",
      "text/html": [
       "<ul><li>Microsoft.Quantum.Standard::0.11.2004.2825</li><li>Microsoft.Quantum.Katas::0.11.2004.2825</li></ul>"
      ],
      "text/plain": [
       "Microsoft.Quantum.Standard::0.11.2004.2825, Microsoft.Quantum.Katas::0.11.2004.2825"
      ]
     },
     "execution_count": 1,
     "metadata": {},
     "output_type": "execute_result"
    }
   ],
   "source": [
    "%package Microsoft.Quantum.Katas::0.11.2004.2825"
   ]
  },
  {
   "cell_type": "markdown",
   "metadata": {},
   "source": [
    "> The package versions in the output of the cell above should always match. If you are running the Notebooks locally and the versions do not match, please install the IQ# version that matches the version of the `Microsoft.Quantum.Katas` package.\n",
    "> <details>\n",
    "> <summary><u>How to install the right IQ# version</u></summary>\n",
    "> For example, if the version of `Microsoft.Quantum.Katas` package above is 0.1.2.3, the installation steps are as follows:\n",
    ">\n",
    "> 1. Stop the kernel.\n",
    "> 2. Uninstall the existing version of IQ#:\n",
    ">        dotnet tool uninstall microsoft.quantum.iqsharp -g\n",
    "> 3. Install the matching version:\n",
    ">        dotnet tool install microsoft.quantum.iqsharp -g --version 0.1.2.3\n",
    "> 4. Reinstall the kernel:\n",
    ">        dotnet iqsharp install\n",
    "> 5. Restart the Notebook.\n",
    "> </details>\n"
   ]
  },
  {
   "cell_type": "code",
   "execution_count": 2,
   "metadata": {},
   "outputs": [
    {
     "data": {
      "application/json": "[\"Quantum.Kata.JointMeasurements.CNOTWrapper\",\"Quantum.Kata.JointMeasurements.ControlledX\",\"Quantum.Kata.JointMeasurements.ControlledX_General\",\"Quantum.Kata.JointMeasurements.ControlledX_General_Reference\",\"Quantum.Kata.JointMeasurements.ControlledX_Reference\",\"Quantum.Kata.JointMeasurements.DifferentBasis\",\"Quantum.Kata.JointMeasurements.DifferentBasis_Reference\",\"Quantum.Kata.JointMeasurements.DistinguishStates_MultiQubit\",\"Quantum.Kata.JointMeasurements.GetMultiQubitNonMeasurementOpCount\",\"Quantum.Kata.JointMeasurements.GHZOrGHZWithX\",\"Quantum.Kata.JointMeasurements.GHZOrGHZWithX_Reference\",\"Quantum.Kata.JointMeasurements.GHZOrWState\",\"Quantum.Kata.JointMeasurements.GHZOrWState_Reference\",\"Quantum.Kata.JointMeasurements.ParityMeasurement\",\"Quantum.Kata.JointMeasurements.ParityMeasurement_Reference\",\"Quantum.Kata.JointMeasurements.SingleQubitMeasurement\",\"Quantum.Kata.JointMeasurements.SingleQubitMeasurement_Reference\",\"Quantum.Kata.JointMeasurements.StatePrep_A\",\"Quantum.Kata.JointMeasurements.StatePrep_DifferentBasis\",\"Quantum.Kata.JointMeasurements.StatePrep_GHZOrWState\",\"Quantum.Kata.JointMeasurements.StatePrep_ParityMeasurement\",\"Quantum.Kata.JointMeasurements.StatePrep_WState_Arbitrary\",\"Quantum.Kata.JointMeasurements.T01_SingleQubitMeasurement_Test\",\"Quantum.Kata.JointMeasurements.T02_ParityMeasurement_Test\",\"Quantum.Kata.JointMeasurements.T03_GHZOrGHZWithX_Test\",\"Quantum.Kata.JointMeasurements.T04_GHZOrWState_Test\",\"Quantum.Kata.JointMeasurements.T05_DifferentBasis_Test\",\"Quantum.Kata.JointMeasurements.T06_ControlledX_Test\",\"Quantum.Kata.JointMeasurements.T07_ControlledX_General_Test\"]",
      "text/html": [
       "<ul><li>Quantum.Kata.JointMeasurements.CNOTWrapper</li><li>Quantum.Kata.JointMeasurements.ControlledX</li><li>Quantum.Kata.JointMeasurements.ControlledX_General</li><li>Quantum.Kata.JointMeasurements.ControlledX_General_Reference</li><li>Quantum.Kata.JointMeasurements.ControlledX_Reference</li><li>Quantum.Kata.JointMeasurements.DifferentBasis</li><li>Quantum.Kata.JointMeasurements.DifferentBasis_Reference</li><li>Quantum.Kata.JointMeasurements.DistinguishStates_MultiQubit</li><li>Quantum.Kata.JointMeasurements.GetMultiQubitNonMeasurementOpCount</li><li>Quantum.Kata.JointMeasurements.GHZOrGHZWithX</li><li>Quantum.Kata.JointMeasurements.GHZOrGHZWithX_Reference</li><li>Quantum.Kata.JointMeasurements.GHZOrWState</li><li>Quantum.Kata.JointMeasurements.GHZOrWState_Reference</li><li>Quantum.Kata.JointMeasurements.ParityMeasurement</li><li>Quantum.Kata.JointMeasurements.ParityMeasurement_Reference</li><li>Quantum.Kata.JointMeasurements.SingleQubitMeasurement</li><li>Quantum.Kata.JointMeasurements.SingleQubitMeasurement_Reference</li><li>Quantum.Kata.JointMeasurements.StatePrep_A</li><li>Quantum.Kata.JointMeasurements.StatePrep_DifferentBasis</li><li>Quantum.Kata.JointMeasurements.StatePrep_GHZOrWState</li><li>Quantum.Kata.JointMeasurements.StatePrep_ParityMeasurement</li><li>Quantum.Kata.JointMeasurements.StatePrep_WState_Arbitrary</li><li>Quantum.Kata.JointMeasurements.T01_SingleQubitMeasurement_Test</li><li>Quantum.Kata.JointMeasurements.T02_ParityMeasurement_Test</li><li>Quantum.Kata.JointMeasurements.T03_GHZOrGHZWithX_Test</li><li>Quantum.Kata.JointMeasurements.T04_GHZOrWState_Test</li><li>Quantum.Kata.JointMeasurements.T05_DifferentBasis_Test</li><li>Quantum.Kata.JointMeasurements.T06_ControlledX_Test</li><li>Quantum.Kata.JointMeasurements.T07_ControlledX_General_Test</li></ul>"
      ],
      "text/plain": [
       "Quantum.Kata.JointMeasurements.CNOTWrapper, Quantum.Kata.JointMeasurements.ControlledX, Quantum.Kata.JointMeasurements.ControlledX_General, Quantum.Kata.JointMeasurements.ControlledX_General_Reference, Quantum.Kata.JointMeasurements.ControlledX_Reference, Quantum.Kata.JointMeasurements.DifferentBasis, Quantum.Kata.JointMeasurements.DifferentBasis_Reference, Quantum.Kata.JointMeasurements.DistinguishStates_MultiQubit, Quantum.Kata.JointMeasurements.GetMultiQubitNonMeasurementOpCount, Quantum.Kata.JointMeasurements.GHZOrGHZWithX, Quantum.Kata.JointMeasurements.GHZOrGHZWithX_Reference, Quantum.Kata.JointMeasurements.GHZOrWState, Quantum.Kata.JointMeasurements.GHZOrWState_Reference, Quantum.Kata.JointMeasurements.ParityMeasurement, Quantum.Kata.JointMeasurements.ParityMeasurement_Reference, Quantum.Kata.JointMeasurements.SingleQubitMeasurement, Quantum.Kata.JointMeasurements.SingleQubitMeasurement_Reference, Quantum.Kata.JointMeasurements.StatePrep_A, Quantum.Kata.JointMeasurements.StatePrep_DifferentBasis, Quantum.Kata.JointMeasurements.StatePrep_GHZOrWState, Quantum.Kata.JointMeasurements.StatePrep_ParityMeasurement, Quantum.Kata.JointMeasurements.StatePrep_WState_Arbitrary, Quantum.Kata.JointMeasurements.T01_SingleQubitMeasurement_Test, Quantum.Kata.JointMeasurements.T02_ParityMeasurement_Test, Quantum.Kata.JointMeasurements.T03_GHZOrGHZWithX_Test, Quantum.Kata.JointMeasurements.T04_GHZOrWState_Test, Quantum.Kata.JointMeasurements.T05_DifferentBasis_Test, Quantum.Kata.JointMeasurements.T06_ControlledX_Test, Quantum.Kata.JointMeasurements.T07_ControlledX_General_Test"
      ]
     },
     "execution_count": 2,
     "metadata": {},
     "output_type": "execute_result"
    }
   ],
   "source": [
    "%workspace reload"
   ]
  },
  {
   "cell_type": "markdown",
   "metadata": {},
   "source": [
    "### Task 1. Single-qubit measurement\n",
    "\n",
    "**Input:** Two qubits (stored in an array) which are guaranteed to be either in superposition of states $|00\\rangle$ and $|11\\rangle$ or in superposition of states $|01\\rangle$ and $|10\\rangle$.\n",
    "\n",
    "**Output:**  0 if qubits were in the first superposition, 1 if they were in the second superposition.  \n",
    "*The state of the qubits at the end of the operation does not matter.*\n",
    "\n",
    "<br/>\n",
    "<details closed>\n",
    "  <summary>Need a hint? Click here </summary>\n",
    "    Use two single-qubit measurements. \n",
    "</details>"
   ]
  },
  {
   "cell_type": "code",
   "execution_count": 4,
   "metadata": {},
   "outputs": [
    {
     "name": "stdout",
     "output_type": "stream",
     "text": [
      "/snippet_.qs(13,5): warning QS6302: This statement will never be executed.\n"
     ]
    },
    {
     "data": {
      "application/json": "\"Success!\"",
      "text/plain": [
       "Success!"
      ]
     },
     "execution_count": 4,
     "metadata": {},
     "output_type": "execute_result"
    }
   ],
   "source": [
    "%kata T01_SingleQubitMeasurement_Test \n",
    "\n",
    "operation SingleQubitMeasurement (qs : Qubit[]) : Int {\n",
    "    let q0 = M(qs[0]);\n",
    "    let q1 = M(qs[1]);\n",
    "    \n",
    "    if (q0==q1){\n",
    "        return 0;\n",
    "    } else{\n",
    "        return 1;\n",
    "    }\n",
    "    \n",
    "    return -1;\n",
    "}"
   ]
  },
  {
   "cell_type": "markdown",
   "metadata": {},
   "source": [
    "### Task 2. Parity measurement\n",
    "\n",
    "**Inputs**: Two qubits (stored in an array) which are guaranteed to be either in superposition of states $|00\\rangle$ and $|11\\rangle$ or in superposition of states $|01\\rangle$ and $|10\\rangle$.\n",
    "\n",
    "**Output**: 0 if qubits were in the first superposition, 1 if they were in the second superposition.  \n",
    "*The state of the qubits at the end of the operation should be the same as the starting state.*"
   ]
  },
  {
   "cell_type": "code",
   "execution_count": 10,
   "metadata": {},
   "outputs": [
    {
     "data": {
      "application/json": "\"Success!\"",
      "text/plain": [
       "Success!"
      ]
     },
     "execution_count": 10,
     "metadata": {},
     "output_type": "execute_result"
    }
   ],
   "source": [
    "%kata T02_ParityMeasurement_Test \n",
    "\n",
    "open Microsoft.Quantum.Measurement;\n",
    "\n",
    "operation ParityMeasurement (qs : Qubit[]) : Int {\n",
    "    //bc state of qubits at end must be same at starting\n",
    "    //i think this implies ancilla qubit\n",
    "    \n",
    "    //not quite what I thought\n",
    "    return Measure([PauliZ, PauliZ], qs)==Zero ? 0 | 1;\n",
    "    \n",
    "\n",
    "}"
   ]
  },
  {
   "cell_type": "markdown",
   "metadata": {},
   "source": [
    "### Task 3. $|0000\\rangle + |1111\\rangle$ or $|0011\\rangle + |1100\\rangle$  ?\n",
    "**Inputs**: Four qubits (stored in an array) which are guaranteed to be either in superposition of states $|0000\\rangle$ and $|1111\\rangle$ or in superposition of states $|0011\\rangle$ and $|1100\\rangle$.\n",
    "\n",
    "**Output** : 0 if qubits were in the first superposition, 1 if they were in the second superposition.  \n",
    "*The state of the qubits at the end of the operation should be the same as the starting state.*"
   ]
  },
  {
   "cell_type": "code",
   "execution_count": 15,
   "metadata": {},
   "outputs": [
    {
     "data": {
      "application/json": "\"Success!\"",
      "text/plain": [
       "Success!"
      ]
     },
     "execution_count": 15,
     "metadata": {},
     "output_type": "execute_result"
    }
   ],
   "source": [
    "%kata T03_GHZOrGHZWithX_Test \n",
    "\n",
    "operation GHZOrGHZWithX (qs : Qubit[]) : Int {\n",
    "    //the pattern from previous exercise leads me to believe this would work\n",
    "    //return Measure([PauliZ, PauliZ, PauliZ, PauliZ], qs)==Zero ? 0 | 1;\n",
    "    //50% correct\n",
    "    \n",
    "    //return Measure([PauliZ, PauliZ, PauliX, PauliX], qs)==One ? 0 | 1;\n",
    "    \n",
    "    //considering only the parity of the 2 middle bits \n",
    "    return Measure([PauliZ, PauliZ], [qs[1], qs[2]])==Zero ? 0 | 1;\n",
    "    \n",
    "}"
   ]
  },
  {
   "cell_type": "markdown",
   "metadata": {},
   "source": [
    "### Task 4. $|0..0\\rangle + |1..1\\rangle$ or W state ?\n",
    "\n",
    "**Inputs:** An even number of qubits (stored in an array) which are guaranteed to be either in a superposition of states |0..0$\\rangle$ and |1..1$\\rangle$ or in the [W state](https://en.wikipedia.org/wiki/W_state).\n",
    "\n",
    "**Output:** 0 if qubits were in the first superposition, 1 if they were in the second superposition. \n",
    "*The state of the qubits at the end of the operation should be the same as the starting state.*"
   ]
  },
  {
   "cell_type": "code",
   "execution_count": 22,
   "metadata": {},
   "outputs": [
    {
     "data": {
      "application/json": "\"Success!\"",
      "text/plain": [
       "Success!"
      ]
     },
     "execution_count": 22,
     "metadata": {},
     "output_type": "execute_result"
    }
   ],
   "source": [
    "%kata T04_GHZOrWState_Test\n",
    "\n",
    "open Microsoft.Quantum.Measurement;\n",
    "\n",
    "operation GHZOrWState (qs : Qubit[]) : Int {\n",
    "    //bc there's an even number, it might be possible to iterate over groups of 2 quibts\n",
    "    //for each group check the parity\n",
    "    //the first time their parity differs, we know it's in a W state\n",
    "    \n",
    "    //had the wrong idea of parity\n",
    "    //let N = Length(qs);\n",
    "    //mutable res = -1;\n",
    "    \n",
    "    //for (i in 0..N-2){\n",
    "    //    if (Measure([PauliZ, PauliZ], [qs[i], qs[i+1]])==Zero){\n",
    "    //       set res = 0;\n",
    "    //    } else{\n",
    "    //        set res = 1;\n",
    "    //    }\n",
    "    //}\n",
    "    //return res;\n",
    "    \n",
    "    //the parity of a homogenous state is always 0\n",
    "    //the parity for a state with at least 1 difference will be 1\n",
    "    //each parity correspondes to an eigenvalue in some basis (Z basis)\n",
    "    //QUESTION:  Why Z basis???\n",
    "    //so, if i know the eigenvalue after measurement then i know the parity\n",
    "    //which is the same as knowing the state\n",
    "    \n",
    "    //Zero corresponds to +1 eigenvalue which is GHZ\n",
    "    //One corresponds to -1 eigenvalue whicch is W\n",
    "    return MeasureAllZ(qs)==Zero ? 0 | 1;\n",
    "    \n",
    "}"
   ]
  },
  {
   "cell_type": "markdown",
   "metadata": {},
   "source": [
    "### Task 5*. Parity measurement in different basis\n",
    "\n",
    "**Inputs:** Two qubits (stored in an array) which are guaranteed to be\n",
    "* either in superposition $\\alpha |00\\rangle + \\beta |01\\rangle + \\beta |10\\rangle + \\alpha |11\\rangle$\n",
    "* or in superposition $\\alpha |00\\rangle - \\beta |01\\rangle + \\beta |10\\rangle - \\alpha |11\\rangle$\n",
    "\n",
    "**Output:** 0 if qubits were in the first superposition, 1 if they were in the second superposition.  \n",
    "*The state of the qubits at the end of the operation should be the same as the starting state.*"
   ]
  },
  {
   "cell_type": "code",
   "execution_count": 26,
   "metadata": {},
   "outputs": [
    {
     "data": {
      "application/json": "\"Success!\"",
      "text/plain": [
       "Success!"
      ]
     },
     "execution_count": 26,
     "metadata": {},
     "output_type": "execute_result"
    }
   ],
   "source": [
    "%kata T05_DifferentBasis_Test\n",
    "\n",
    "operation DifferentBasis (qs : Qubit[]) : Int {\n",
    "    //recognize superposition 1 as a variation of |+> tensorprod |+>\n",
    "    //recognize superposition 2 as a variation of |+> tensorprod |->\n",
    "    //try checking the parity in the Hadamard basis?\n",
    "    //superposition 1 would be Zero (eigenvalue of +1)\n",
    "    //superposition 2 would be One\n",
    "    \n",
    "    //super close!\n",
    "    \n",
    "    //no need to apply gates to the quibts\n",
    "    \n",
    "    //could think of this as a heuristic:\n",
    "    //don't apply gates so that the state of the qubits before/after operation is constant\n",
    "    //aka the requirement of the problem\n",
    "    //ApplyToEach(H, qs);\n",
    "    let mes = Measure([PauliX, PauliX], qs)==Zero ? 0 | 1;\n",
    "    //ApplyToEach(H, qs);\n",
    "    return mes;\n",
    "}"
   ]
  },
  {
   "cell_type": "markdown",
   "metadata": {},
   "source": [
    "### Task 6*. Controlled X gate with $|0\\rangle$ target\n",
    "\n",
    "**Input:** Two unentangled qubits (stored in an array of length 2). The first qubit (`qs[0]`) will be in state $|\\psi\\rangle = \\alpha |0\\rangle + \\beta |1\\rangle$ , the second (`qs[1]`) - in state $|0\\rangle$ (this can be written as two-qubit state $\\big(\\alpha |0\\rangle + \\beta |1\\rangle\\big) \\otimes |0\\rangle$). \n",
    "\n",
    "**Output:** Change the two-qubit state to $\\alpha |00\\rangle + \\beta |11\\rangle$ using only single-qubit gates and joint measurements. Do not use two-qubit gates. You do not need to allocate extra qubits."
   ]
  },
  {
   "cell_type": "code",
   "execution_count": 35,
   "metadata": {},
   "outputs": [
    {
     "data": {
      "application/json": "\"Success!\"",
      "text/plain": [
       "Success!"
      ]
     },
     "execution_count": 35,
     "metadata": {},
     "output_type": "execute_result"
    }
   ],
   "source": [
    "%kata T06_ControlledX_Test\n",
    "\n",
    "operation ControlledX (qs : Qubit[]) : Unit {\n",
    "    //how do joint measurements play into this problem?\n",
    "    //one way:\n",
    "    //create the circuit that does this (using 2 qubit gates)\n",
    "    //translate the 2 qubit gate matrices as single qubit?\n",
    "    \n",
    "    //from viewing soln\n",
    "    //basically recognize that the first qubit can be simply id-ed in the H basis\n",
    "    //move qubit 2 into the H basis \n",
    "    //measure the register parity\n",
    "        //eigenvalue +1 => Zero => no parity\n",
    "        //eigenvalue -1 => One => parity\n",
    "    //parity indicates that a qubit is in the |1> \n",
    "    //so a NOT should be performed\n",
    "    //NB that's *literally* what a CNOT does\n",
    "    \n",
    "    H(qs[1]);\n",
    "    if (Measure([PauliZ, PauliZ], qs)==One){\n",
    "        X(qs[1]);\n",
    "    }\n",
    "}"
   ]
  },
  {
   "cell_type": "markdown",
   "metadata": {},
   "source": [
    "### Task 7**. Controlled X gate with arbitrary target\n",
    "\n",
    "**Input:** Two qubits (stored in an array of length 2) in an arbitrary two-qubit state $\\alpha |00\\rangle + \\beta |01\\rangle + \\color{blue}\\gamma |10\\rangle  + \\color{blue}\\delta |11\\rangle$.\n",
    "\n",
    "**Goal:** Change the two-qubit state to $\\alpha |00\\rangle + \\beta |01\\rangle + \\color{red}\\delta |10\\rangle  + \\color{red}\\gamma |11\\rangle$ using only single-qubit gates and joint measurements.  Do not use two-qubit gates.\n",
    "\n",
    "> A general-case implementation of CNOT gate via joint measurements is described in [this paper](https://arxiv.org/pdf/1201.5734.pdf).\n",
    "\n",
    "<details>\n",
    "  <summary>Need a hint? Click here</summary>\n",
    "  You can use an extra qubit to perform this operation.\n",
    "</details>"
   ]
  },
  {
   "cell_type": "code",
   "execution_count": 37,
   "metadata": {},
   "outputs": [
    {
     "name": "stderr",
     "output_type": "stream",
     "text": [
      "/snippet_.qs(3,5): error QS4004: Statements can only occur within a callable or specialization declaration.\n"
     ]
    }
   ],
   "source": [
    "%kata T07_ControlledX_General_Test\n",
    "\n",
    "operation ControlledX_General (qs : Qubit[]) : Unit {\n",
    "    using (anc=Qubit()){\n",
    "        //from figure 2 of paper\n",
    "        H(anc);\n",
    "        let p1 = Measure([PauliZ, PauliZ], [qs[0], anc]);\n",
    "        H(anc);\n",
    "        H(qs[1]);\n",
    "        let p2 = Measure([PauliZ, PauliZ], [anc, qs[1]]);\n",
    "        H(anc);\n",
    "        H(qs[1]);\n",
    "        let m = MResetZ(anc);\n",
    "        \n",
    "        if (p2==One){\n",
    "            Z(qs[0]);\n",
    "        }\n",
    "        \n",
    "        if (p1!=m){\n",
    "            X(qs[0]);\n",
    "        }\n",
    "    }\n",
    "    \n",
    "    adjoint self;\n",
    "}"
   ]
  },
  {
   "cell_type": "code",
   "execution_count": null,
   "metadata": {},
   "outputs": [],
   "source": []
  }
 ],
 "metadata": {
  "kernelspec": {
   "display_name": "Q#",
   "language": "qsharp",
   "name": "iqsharp"
  },
  "language_info": {
   "file_extension": ".qs",
   "mimetype": "text/x-qsharp",
   "name": "qsharp",
   "version": "0.10"
  }
 },
 "nbformat": 4,
 "nbformat_minor": 2
}
